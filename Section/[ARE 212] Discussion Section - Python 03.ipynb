{
 "cells": [
  {
   "cell_type": "markdown",
   "metadata": {},
   "source": [
    "# [ARE 212] Discussion Section - Python 03"
   ]
  },
  {
   "cell_type": "markdown",
   "metadata": {},
   "source": [
    "- [Ethan's materials](https://github.com/ligonteaching/ARE212_Materials)"
   ]
  },
  {
   "cell_type": "markdown",
   "metadata": {},
   "source": [
    "### Source Material"
   ]
  },
  {
   "cell_type": "markdown",
   "metadata": {},
   "source": [
    "These notes are the fruits of arduous labor of others.  My contributions are minimual, but please expect to find some code (and even explanation) errors (and assume them all to be mine). If you find any mistakes or have questions, please [let me know](mailto:benjaminkrause@berkeley.edu).\n",
    "    \n",
    "The primary sources of these notes are:\n",
    "- Ethan and in particular his EEP 153 Notes\n",
    "- [Computational and Inferential Thinking: The Foundations of Data Science](https://www.inferentialthinking.com/chapters/intro.html) which is the textbook for UC Berkeley's [Data 8: The Foundations of Data Science](http://data8.org/) course.  All of the notes, readings, labs, and assignments are fully available online as well.  For instance, here is [Spring 2020](http://data8.org/sp20/).\n",
    "- [Python Data Science Handbook](https://jakevdp.github.io/PythonDataScienceHandbook/)"
   ]
  },
  {
   "cell_type": "markdown",
   "metadata": {},
   "source": [
    "### Follow-up from questions posed last week"
   ]
  },
  {
   "cell_type": "markdown",
   "metadata": {},
   "source": [
    "- *Can you consolidate the course information and policies?*\n",
    "    - We have brought all the materials for Ethan's portion of this course together on [Ethan's Github](https://github.com/ligonteaching/ARE212_Materials)\n",
    "        - Scroll down past the repository to the [README](https://github.com/ligonteaching/ARE212_Materials#materials-for-are212) for a summary and structure of this portion of the semester linked to the various documents, notes, readings, and notebooks\n",
    "        - Toward the bottom of the [README](https://github.com/ligonteaching/ARE212_Materials#materials-for-are212), I've linked to all of the [Discussion Section Materials](https://github.com/ligonteaching/ARE212_Materials#discussion-section) including youtube links for all of the Zoom Sections (Thank you Sofia!!!) for Ethan's portion of the semester\n",
    "        - I've also moved all of the Discussion Section Materials for this portion of the class to the [Section](https://github.com/ligonteaching/ARE212_Materials/tree/master/Section) folder on [Ethan's Github](https://github.com/ligonteaching/ARE212_Materials)\n",
    "        - Finally, I have also included some [Reminders of Additional Services and Support](https://github.com/ligonteaching/ARE212_Materials#reminder-of-additional-services-and-support) at the very bottom of the [README](https://github.com/ligonteaching/ARE212_Materials#materials-for-are212).  This is a difficult time for all of us for so many different reasons.  Know that there are a lot of resources available to help if you're struggling.\n",
    "\n",
    "\n",
    "- *Can we post the Zoom recordings ASAP?*\n",
    "    - How is this going?\n",
    "  \n",
    "  \n",
    "- *How do we set the seed in `Python` for replicability?*\n",
    "    - The key element to keep in mind when setting the seed in `Python` is to make sure you are doing so in a way that the modules you are depending upon will notice\n",
    "    - Becauuse most of our work in this class will depend upon `NumPy` and `SciPy` (which actually just calls to `NumPy` in this instance, see ), that is the module we will be sure to reference.\n",
    "    - Use `np.random.seed( <integer> )` to set the seed so that both modules take note"
   ]
  },
  {
   "cell_type": "code",
   "execution_count": 12,
   "metadata": {},
   "outputs": [],
   "source": [
    "# From the documentation we can see that scipy will defer to numpy\n",
    "import scipy\n",
    "scipy.random?\n",
    "# Note: \"String form: <module 'numpy.random' from '/srv/app/venv/lib/python3.6/site-packages/numpy/random/__init__.py'>\""
   ]
  },
  {
   "cell_type": "code",
   "execution_count": 18,
   "metadata": {},
   "outputs": [],
   "source": [
    "# From the documenation we see `numpy` has a subpackage `random`\n",
    "import numpy as np\n",
    "np?"
   ]
  },
  {
   "cell_type": "code",
   "execution_count": 20,
   "metadata": {},
   "outputs": [],
   "source": [
    "# From the documentation we find `seed1\n",
    "np.random?\n",
    "# Note: seed       Seed the random number generator."
   ]
  },
  {
   "cell_type": "markdown",
   "metadata": {},
   "source": [
    "-  \n",
    "    - Slightly modifying the code in [weighted_regression](https://github.com/ligonteaching/ARE212_Materials/blob/master/weighted_regression.ipynb), we can see this in action"
   ]
  },
  {
   "cell_type": "code",
   "execution_count": 24,
   "metadata": {},
   "outputs": [
    {
     "name": "stdout",
     "output_type": "stream",
     "text": [
      "first number  -  [ 0.0700866   2.42789915 -2.18940344]\n",
      "Second number -  [ 0.0700866   2.42789915 -2.18940344]\n"
     ]
    }
   ],
   "source": [
    "# Code from Weighted Regressions\n",
    "\n",
    "# 2.1. (MODIFIED) ORIGINAL CODE\n",
    "\n",
    "%matplotlib inline\n",
    "import numpy as np\n",
    "from scipy.stats import multivariate_normal\n",
    "\n",
    "k = 3 # Number of observables in T\n",
    "\n",
    "mu = [0]*k\n",
    "Sigma=[[1,0.5,0],\n",
    "       [0.5,2,0],\n",
    "       [0,0,3]]\n",
    "\n",
    "T = multivariate_normal(mu,Sigma) \n",
    "\n",
    "u = multivariate_normal(cov=0.2)\n",
    "\n",
    "\n",
    "\n",
    "# 2.2. (MODIFIED) ORIGINAL CODE\n",
    "\n",
    "beta = [1/2,1]\n",
    "\n",
    "D = np.random.random(size=(3,2)) # Generate random 3x2 matrix\n",
    "\n",
    "N=1 # Sample size (MODIFIED) from 1000 to 1 to make the code clear\n",
    "\n",
    "# Now: Transform rvs into a sample\n",
    "np.random.seed( 30 )\n",
    "print (\"first number  - \", T.rvs(N))\n",
    "\n",
    "np.random.seed( 30 )\n",
    "print (\"Second number - \", T.rvs(N))"
   ]
  },
  {
   "cell_type": "markdown",
   "metadata": {},
   "source": [
    "## Review Lecture Jupyter Notebooks 2"
   ]
  },
  {
   "cell_type": "markdown",
   "metadata": {},
   "source": [
    "### Learning Goals Today"
   ]
  },
  {
   "cell_type": "markdown",
   "metadata": {},
   "source": [
    "3.  Review [random_variables0](https://datahub.berkeley.edu/user/benjaminkrause/notebooks/ARE212_Materials/random_variables0.ipynb)\n",
    "4.  Review [wright34](https://datahub.berkeley.edu/user/benjaminkrause/notebooks/ARE212_Materials/wright34.ipynb)\n",
    "\n",
    "NB: If needed, review:\n",
    "- Introduction from the first week at [\\[ARE 212\\] Discussion Section - Python 01](https://datahub.berkeley.edu/user/benjaminkrause/notebooks/ARE212_Discussion_Section/%5BARE%20212%5D%20Discussion%20Section%20-%20Python%2001.ipynb)\n",
    "- Review of Lecture Jupyter Notebooks 1 at [\\[ARE 212\\] Discussion Section - Python 02](https://datahub.berkeley.edu/user/benjaminkrause/notebooks/ARE212_Discussion_Section/%5BARE%20212%5D%20Discussion%20Section%20-%20Python%2002.ipynb#)\n",
    "- Or all of my Juptyer Notebooks to date at [my github](https://github.com/bk-econ/share)"
   ]
  },
  {
   "cell_type": "markdown",
   "metadata": {},
   "source": [
    "##### Open a `jupyter` notebook on [Google Colab](https://colab.research.google.com/notebooks/intro.ipynb#recent=true)"
   ]
  },
  {
   "cell_type": "markdown",
   "metadata": {},
   "source": [
    "1. Add the [Google Chrome Extension for Colab](https://chrome.google.com/webstore/detail/open-in-colab/iogfkhleblhcpcekbiedikdehleodpjo?hl=en) to your browser\n",
    "2. Navigate to a `Jupyter Notebook` file in `Github`, for instance, the [Section Notes for April 17, 2020]() (today!) `1. Choose your desired hub:` select `datahub.berkeley.edu`\n",
    "3. Either navigate to [my github](https://github.com/bk-econ/share) page and select the `URL` of the correct section or simply copy it from right here: https://github.com/bk-econ/share/blob/master/%5BARE%20212%5D%20Discussion%20Section%20-%20Python%2001.ipynb\n",
    "4. Paste the `URL` you copied in the previous step into `2. Paste the GitHub URL for your file or folder in the box below.`\n",
    "5. Click `Convert to interact link!`\n",
    "6. Copy the new `URL` generated in field `4. Your interact link URL will appear in the box below.`\n",
    "7. Paste the new `URL` in any web browser and get to it!"
   ]
  },
  {
   "cell_type": "markdown",
   "metadata": {},
   "source": [
    "##### Open a `jupyter` notebook on [datahub.berkeley.edu](https://datahub.berkeley.edu/)"
   ]
  },
  {
   "cell_type": "markdown",
   "metadata": {},
   "source": [
    "1. Open the website [URL to Interact](https://url-to-interact.herokuapp.com/)\n",
    "2. For `1. Choose your desired hub:` select `datahub.berkeley.edu`\n",
    "3. Either navigate to [my github](https://github.com/bk-econ/share) page and select the `URL` of the correct section or simply copy it from right here: https://github.com/bk-econ/share/blob/master/%5BARE%20212%5D%20Discussion%20Section%20-%20Python%2001.ipynb\n",
    "4. Paste the `URL` you copied in the previous step into `2. Paste the GitHub URL for your file or folder in the box below.`\n",
    "5. Click `Convert to interact link!`\n",
    "6. Copy the new `URL` generated in field `4. Your interact link URL will appear in the box below.`\n",
    "7. Paste the new `URL` in any web browser and get to it!"
   ]
  },
  {
   "cell_type": "markdown",
   "metadata": {},
   "source": [
    "### 3. [random_variables0](https://datahub.berkeley.edu/user/benjaminkrause/notebooks/ARE212_Materials/random_variables0.ipynb)\n"
   ]
  },
  {
   "cell_type": "markdown",
   "metadata": {},
   "source": [
    "or see [random_variables0 on github](https://github.com/ligonteaching/ARE212_Materials/blob/master/random_variables0.ipynb)"
   ]
  },
  {
   "cell_type": "markdown",
   "metadata": {},
   "source": [
    "### Defining Random Variables in =python=                       :code_example:\n",
    "\n"
   ]
  },
  {
   "cell_type": "code",
   "execution_count": 20,
   "metadata": {},
   "outputs": [
    {
     "data": {
      "text/html": [
       "<script>\n",
       "                  code_show=true; \n",
       "                  function code_toggle() {\n",
       "                     if (code_show){\n",
       "                        $('div.cell.code_cell.rendered.selected div.input').hide();\n",
       "                     } else {\n",
       "                        $('div.cell.code_cell.rendered.selected div.input').show();\n",
       "                     }\n",
       "                     code_show = !code_show\n",
       "                   } \n",
       "                  $( document ).ready(code_toggle);\n",
       "                 </script>\n",
       "<a href=\"javascript:code_toggle()\"></a>."
      ],
      "text/plain": [
       "<IPython.core.display.HTML object>"
      ]
     },
     "metadata": {},
     "output_type": "display_data"
    }
   ],
   "source": [
    "# Define \"tag\" the display of which hides the cell\n",
    "from IPython.display import HTML\n",
    "from IPython.display import display\n",
    "\n",
    "# Taken from https://stackoverflow.com/questions/31517194/how-to-hide-one-specific-cell-input-or-output-in-ipython-notebook\n",
    "def tag(marker):\n",
    "    s = HTML('''<script>\n",
    "                  code_show=true; \n",
    "                  function code_toggle() {\n",
    "                     if (code_show){\n",
    "                        $('div.cell.code_cell.rendered.selected div.input').hide();\n",
    "                     } else {\n",
    "                        $('div.cell.code_cell.rendered.selected div.input').show();\n",
    "                     }\n",
    "                     code_show = !code_show\n",
    "                   } \n",
    "                  $( document ).ready(code_toggle);\n",
    "                 </script>\n",
    "<a href=\"javascript:code_toggle()\">%s</a>.''' % marker)\n",
    "    return s\n",
    "display(tag(''))"
   ]
  },
  {
   "cell_type": "markdown",
   "metadata": {},
   "source": [
    "The distinguishing feature of variables in a field such as the\n",
    "   reals or the complex plane is their *value*; the distinguishing\n",
    "   feature of random variables is their *distribution*.  The `python`\n",
    "   package `scipy.stats` is well-engineered and offers many different\n",
    "   distributions, and tools to construct others, while the package\n",
    "   `pacal` is perhaps less well engineered, but defines arithmetic\n",
    "   operations over random variables which allows for more elegant\n",
    "   semantics.\n",
    "\n",
    "There are two main classes of random variables to consider: discrete\n",
    "and continuous.  The distinction is worth drawing because different\n",
    "classes are handled differently in many mathematical operations.  \n",
    "\n",
    "For example, here we instantiate a scalar $\\rvx$:\n",
    "\n"
   ]
  },
  {
   "cell_type": "code",
   "execution_count": 21,
   "metadata": {},
   "outputs": [],
   "source": [
    "# 3.2. ORIGINAL CODE\n",
    "\n",
    "from scipy.stats import distributions as iid\n",
    "\n",
    "x = iid.norm()"
   ]
  },
  {
   "cell_type": "code",
   "execution_count": 22,
   "metadata": {},
   "outputs": [],
   "source": [
    "# iid.norm?\n",
    "# A normal continuous random variable."
   ]
  },
  {
   "cell_type": "code",
   "execution_count": 23,
   "metadata": {},
   "outputs": [],
   "source": [
    "# 3.2. CODE ABOVE WITH COMMENTS AND PRINTING\n",
    "\n",
    "# import just the distributions function (and call it \"iid\") from the \"stats\" functions of the SciPy module\n",
    "from scipy.stats import distributions as iid\n",
    "\n",
    "# x gets a normal continuous random variable.\n",
    "x = iid.norm()"
   ]
  },
  {
   "cell_type": "markdown",
   "metadata": {},
   "source": [
    "And here we instantiate a discrete random variable which is defined\n",
    " over an event space $\\{-1,0,1\\}$ with corresponding probabilities $(1/3,1/2,1/6)$:\n",
    "\n"
   ]
  },
  {
   "cell_type": "code",
   "execution_count": 24,
   "metadata": {},
   "outputs": [],
   "source": [
    "# 3.3. ORIGINAL CODE\n",
    "\n",
    "Omega = (-1,0,1)\n",
    "Pr = (1/3.,1/2.,1/6.)\n",
    "\n",
    "s = iid.rv_discrete(values=(Omega,Pr))"
   ]
  },
  {
   "cell_type": "markdown",
   "metadata": {},
   "source": [
    "<font color='red'> *notes*: </font>\n",
    "- `.` after numbers specifies the type as `float` (as opposed to an `integer`) "
   ]
  },
  {
   "cell_type": "code",
   "execution_count": 25,
   "metadata": {},
   "outputs": [],
   "source": [
    "# iid.rv_discrete?\n",
    "# `rv_discrete` is a base class to construct specific distribution classes\n",
    "## and instances for discrete random variables. It can also be used\n",
    "## to construct an arbitrary distribution defined by a list of support\n",
    "## points and corresponding probabilities."
   ]
  },
  {
   "cell_type": "code",
   "execution_count": 26,
   "metadata": {},
   "outputs": [
    {
     "name": "stdout",
     "output_type": "stream",
     "text": [
      "Omega = (-1, 0, 1)\n",
      "Pr = (0.3333333333333333, 0.5, 0.16666666666666666)\n",
      "s = <scipy.stats._distn_infrastructure.rv_sample object at 0x7f712600c860>\n"
     ]
    }
   ],
   "source": [
    "# 3.3. CODE ABOVE WITH COMMENTS AND PRINTING\n",
    "\n",
    "# Omega gets R::list(-1, 0, 1)\n",
    "Omega = (-1,0,1)\n",
    "print(\"Omega =\", Omega)\n",
    "\n",
    "# Pr gets R::list(1/3,1/2,1/6)\n",
    "Pr = (1/3.,1/2.,1/6.)\n",
    "print(\"Pr =\", Pr)\n",
    "\n",
    "# generate a discrete random variable of defined over event space Omega with corresponding probabilities Pr\n",
    "s = iid.rv_discrete(values=(Omega,Pr))\n",
    "print(\"s =\", s)"
   ]
  },
  {
   "cell_type": "markdown",
   "metadata": {},
   "source": [
    "Now, here are some things we can do with these random variables.\n",
    " First, the continuous  $\\rvx$:\n",
    "\n"
   ]
  },
  {
   "cell_type": "code",
   "execution_count": 27,
   "metadata": {},
   "outputs": [
    {
     "name": "stdout",
     "output_type": "stream",
     "text": [
      "E(x) = 0.0000\n",
      "\n",
      "Some (central) moments of x:\n",
      "[(1, 0.0), (2, 1.0), (3, 0.0), (4, 3.0)]\n",
      "\n",
      "95% confidence interval: (-1.959964,1.959964)\n",
      "\n",
      "0.5 0.3989422804014327\n"
     ]
    }
   ],
   "source": [
    "# 3.4. ORIGINAL CODE\n",
    "\n",
    "print(\"E(x) = %6.4f\" % x.mean())\n",
    "print()\n",
    "print(\"Some (central) moments of x:\")\n",
    "print([(m,x.moment(m)) for m in [1,2,3,4]])\n",
    "print()\n",
    "print(\"95%% confidence interval: (%f,%f)\" % x.interval(0.95))\n",
    "print()\n",
    "print(x.cdf(0),x.pdf(0))"
   ]
  },
  {
   "cell_type": "markdown",
   "metadata": {},
   "source": [
    "<font color='red'> *notes*: </font>\n",
    "- `%` operator used to specify formats in strings, see [A Guide to the Newer Python String Format Techniques](https://realpython.com/python-formatted-output/)\n",
    "- `%6.4f` sets the formatting to round and show float numbers to 4 decimal places\n",
    "- `%f` sets formatting as a float\n",
    "- `x.moment(y)` calls the yth moment of x\n",
    "- `x.interval(y)` calls the y (as a decimal point) interval of x\n",
    "- `x.cdf(y)` Cumulative distribution function of x evaluated at y\n",
    "- `x.pdf(y)` probability density function of x evaluated at y\n",
    "- `print()` just returns blank lines, similar to including the `end` specification `print( , end = '\\n\\n')`"
   ]
  },
  {
   "cell_type": "code",
   "execution_count": 28,
   "metadata": {},
   "outputs": [
    {
     "name": "stdout",
     "output_type": "stream",
     "text": [
      "E(x) = 0.0000\n",
      "\n",
      "E(x) = 0.0000\n",
      "\n",
      "Some (central) moments of x:\n",
      "[(1, 0.0), (2, 1.0), (3, 0.0), (4, 3.0)]\n",
      "\n",
      "Just the first moment =  0.0\n",
      "\n",
      "Just the fourth moment =  3.0\n",
      "\n",
      "Some (central) moments of x called as a range:\n",
      "[(1, 0.0), (2, 1.0), (3, 0.0)]\n",
      "\n",
      "95% confidence interval: (-1.959964,1.959964)\n",
      "\n",
      "0.5 0.3989422804014327\n"
     ]
    }
   ],
   "source": [
    "# 3.4. CODE ABOVE WITH COMMENTS AND PRINTING\n",
    "\n",
    "print(\"E(x) = %6.4f\" % x.mean())\n",
    "print()\n",
    "print(\"E(x) = %6.4f\" % x.mean(), end = '\\n\\n')\n",
    "print(\"Some (central) moments of x:\")\n",
    "print([(m,x.moment(m)) for m in [1,2,3,4]]) # note the equivalent of an for loop passing the range 1-4 through m in x.moment(m)\n",
    "print()\n",
    "print(\"Just the first moment = \", x.moment(1))\n",
    "print()\n",
    "print(\"Just the fourth moment = \", x.moment(4))\n",
    "print()\n",
    "print(\"Some (central) moments of x called as a range:\")\n",
    "print([(m,x.moment(m)) for m in range(1,4)])\n",
    "print()\n",
    "print(\"95%% confidence interval: (%f,%f)\" % x.interval(0.95))\n",
    "print()\n",
    "print(x.cdf(0),x.pdf(0))"
   ]
  },
  {
   "cell_type": "markdown",
   "metadata": {},
   "source": [
    "Next, the discrete r.v., \\rv{s}:\n",
    "\n"
   ]
  },
  {
   "cell_type": "code",
   "execution_count": 29,
   "metadata": {},
   "outputs": [
    {
     "name": "stdout",
     "output_type": "stream",
     "text": [
      "E(s) = -0.1667\n",
      "\n",
      "Some moments of x:\n",
      "[(1, -0.16666666666666666), (2, 0.5), (3, -0.16666666666666666), (4, 0.5)]\n",
      "\n",
      "95% confidence interval: (-1.000000,1.000000)\n",
      "\n",
      "0.8333333333333333 0.5\n"
     ]
    }
   ],
   "source": [
    "# 3.5. ORIGINAL CODE\n",
    "\n",
    "print(\"E(s) = %6.4f\" % s.mean())\n",
    "print()\n",
    "print(\"Some moments of x:\")\n",
    "print([(m,s.moment(m)) for m in [1,2,3,4]])\n",
    "print()\n",
    "print(\"95%% confidence interval: (%f,%f)\" % s.interval(0.95))\n",
    "print()\n",
    "# Note! Not pdf, but pmf for discrete rv.\n",
    "print(s.cdf(0),s.pmf(0))"
   ]
  },
  {
   "cell_type": "markdown",
   "metadata": {},
   "source": [
    "<font color='red'> *notes*: </font>\n",
    "- `s.pmf(y)` probability mass function of s evaluated at y"
   ]
  },
  {
   "cell_type": "markdown",
   "metadata": {},
   "source": [
    "If we want *realizations* of these random variables:\n",
    "\n"
   ]
  },
  {
   "cell_type": "code",
   "execution_count": 30,
   "metadata": {},
   "outputs": [
    {
     "name": "stdout",
     "output_type": "stream",
     "text": [
      "[ 1.02792504 -0.26372605  0.86607785]\n"
     ]
    }
   ],
   "source": [
    "# 3.6. ORIGINAL CODE\n",
    "\n",
    "N=3\n",
    "print(x.rvs(N)) # N realizations; no longer random"
   ]
  },
  {
   "cell_type": "markdown",
   "metadata": {},
   "source": [
    "We&rsquo;d like to be able to combine different random variables, say\n",
    "by addition, yielding a new random variable.  For instance, we&rsquo;d like\n",
    "to be able to construct\n",
    "\n"
   ]
  },
  {
   "cell_type": "code",
   "execution_count": 61,
   "metadata": {},
   "outputs": [
    {
     "ename": "TypeError",
     "evalue": "unsupported operand type(s) for +: 'rv_frozen' and 'rv_sample'",
     "output_type": "error",
     "traceback": [
      "\u001b[0;31m---------------------------------------------------------------------------\u001b[0m",
      "\u001b[0;31mTypeError\u001b[0m                                 Traceback (most recent call last)",
      "\u001b[0;32m<ipython-input-61-c67a17ba623b>\u001b[0m in \u001b[0;36m<module>\u001b[0;34m\u001b[0m\n\u001b[1;32m      1\u001b[0m \u001b[0;31m# 3.7. ORIGINAL CODE\u001b[0m\u001b[0;34m\u001b[0m\u001b[0;34m\u001b[0m\u001b[0;34m\u001b[0m\u001b[0m\n\u001b[1;32m      2\u001b[0m \u001b[0;34m\u001b[0m\u001b[0m\n\u001b[0;32m----> 3\u001b[0;31m \u001b[0my\u001b[0m \u001b[0;34m=\u001b[0m \u001b[0mx\u001b[0m \u001b[0;34m+\u001b[0m \u001b[0ms\u001b[0m\u001b[0;34m\u001b[0m\u001b[0;34m\u001b[0m\u001b[0m\n\u001b[0m",
      "\u001b[0;31mTypeError\u001b[0m: unsupported operand type(s) for +: 'rv_frozen' and 'rv_sample'"
     ]
    }
   ],
   "source": [
    "# 3.7. ORIGINAL CODE\n",
    "\n",
    "y = x + s"
   ]
  },
  {
   "cell_type": "markdown",
   "metadata": {},
   "source": [
    "But this fails.  Can you explain why?  What do you suppose the cdf of\n",
    "$\\rvy$ looks like?  Does it have a density, or does the addition of a\n",
    "random variable that *lacks* a density ($\\rv{s}$) to a random variable\n",
    "that has one ($\\rvx$) mess things up?\n",
    "\n"
   ]
  },
  {
   "cell_type": "code",
   "execution_count": 10,
   "metadata": {},
   "outputs": [
    {
     "ename": "SyntaxError",
     "evalue": "invalid syntax (<ipython-input-10-e4ceebb730d3>, line 7)",
     "output_type": "error",
     "traceback": [
      "\u001b[0;36m  File \u001b[0;32m\"<ipython-input-10-e4ceebb730d3>\"\u001b[0;36m, line \u001b[0;32m7\u001b[0m\n\u001b[0;31m    class ConvolvedContinuousAndDiscrete(iid.rv_continuous):\u001b[0m\n\u001b[0m        ^\u001b[0m\n\u001b[0;31mSyntaxError\u001b[0m\u001b[0;31m:\u001b[0m invalid syntax\n"
     ]
    }
   ],
   "source": [
    "# 3.8. ORIGINAL CODE\n",
    "\n",
    "display(tag(\"+\")\n",
    "# Code to convolve a random variable with a pmf and another having a cdf\n",
    "# Exploits =scipy.stats= base rv_continuous class.\n",
    "\n",
    "class ConvolvedContinuousAndDiscrete(iid.rv_continuous):\n",
    "\n",
    "    \"\"\"Convolve (add) a continuous rv x and a discrete rv s,\n",
    "       returning the resulting cdf.\"\"\"\n",
    "\n",
    "    def __init__(self,f,s):\n",
    "        self.continuous_rv = f\n",
    "        self.discrete_rv = s\n",
    "        super(ConvolvedContinuousAndDiscrete, self).__init__(name=\"ConvolvedContinuousAndDiscrete\")\n",
    "        \n",
    "    def _cdf(self,z):\n",
    "        F=0\n",
    "        s = self.discrete_rv\n",
    "        x = self.continuous_rv\n",
    "        \n",
    "        for k in range(len(s.xk)):\n",
    "            F = F + x.cdf(z-s.xk[k])*s.pk[k]\n",
    "        return F\n",
    "\n",
    "    def _pdf(self,z):\n",
    "        f=0\n",
    "        s = self.discrete_rv\n",
    "        x = self.continuous_rv\n",
    "        \n",
    "        for k in range(len(s.xk)):\n",
    "            f = f + x.pdf(z-s.xk[k])*s.pk[k]\n",
    "        return f\n",
    "\n",
    "\n",
    "# Create new convolved rv:\n",
    "y = ConvolvedContinuousAndDiscrete(x,s)"
   ]
  },
  {
   "cell_type": "code",
   "execution_count": 21,
   "metadata": {},
   "outputs": [
    {
     "ename": "NameError",
     "evalue": "name 'y' is not defined",
     "output_type": "error",
     "traceback": [
      "\u001b[0;31m---------------------------------------------------------------------------\u001b[0m",
      "\u001b[0;31mNameError\u001b[0m                                 Traceback (most recent call last)",
      "\u001b[0;32m<ipython-input-21-18c85864e78e>\u001b[0m in \u001b[0;36m<module>\u001b[0;34m\u001b[0m\n\u001b[1;32m      4\u001b[0m \u001b[0mX\u001b[0m \u001b[0;34m=\u001b[0m \u001b[0mnp\u001b[0m\u001b[0;34m.\u001b[0m\u001b[0mlinspace\u001b[0m\u001b[0;34m(\u001b[0m\u001b[0;34m-\u001b[0m\u001b[0;36m4\u001b[0m\u001b[0;34m,\u001b[0m\u001b[0;36m4\u001b[0m\u001b[0;34m,\u001b[0m\u001b[0;36m100\u001b[0m\u001b[0;34m)\u001b[0m\u001b[0;34m.\u001b[0m\u001b[0mtolist\u001b[0m\u001b[0;34m(\u001b[0m\u001b[0;34m)\u001b[0m\u001b[0;34m\u001b[0m\u001b[0;34m\u001b[0m\u001b[0m\n\u001b[1;32m      5\u001b[0m \u001b[0;34m\u001b[0m\u001b[0m\n\u001b[0;32m----> 6\u001b[0;31m \u001b[0mfig\u001b[0m \u001b[0;34m=\u001b[0m \u001b[0mgo\u001b[0m\u001b[0;34m.\u001b[0m\u001b[0mFigure\u001b[0m\u001b[0;34m(\u001b[0m\u001b[0mdata\u001b[0m\u001b[0;34m=\u001b[0m\u001b[0mgo\u001b[0m\u001b[0;34m.\u001b[0m\u001b[0mScatter\u001b[0m\u001b[0;34m(\u001b[0m\u001b[0mx\u001b[0m\u001b[0;34m=\u001b[0m\u001b[0mX\u001b[0m\u001b[0;34m,\u001b[0m \u001b[0my\u001b[0m\u001b[0;34m=\u001b[0m\u001b[0;34m[\u001b[0m\u001b[0my\u001b[0m\u001b[0;34m.\u001b[0m\u001b[0mpdf\u001b[0m\u001b[0;34m(\u001b[0m\u001b[0mz\u001b[0m\u001b[0;34m)\u001b[0m \u001b[0;32mfor\u001b[0m \u001b[0mz\u001b[0m \u001b[0;32min\u001b[0m \u001b[0mX\u001b[0m\u001b[0;34m]\u001b[0m\u001b[0;34m)\u001b[0m\u001b[0;34m)\u001b[0m\u001b[0;34m\u001b[0m\u001b[0;34m\u001b[0m\u001b[0m\n\u001b[0m\u001b[1;32m      7\u001b[0m \u001b[0mfig\u001b[0m\u001b[0;34m.\u001b[0m\u001b[0mshow\u001b[0m\u001b[0;34m(\u001b[0m\u001b[0;34m)\u001b[0m\u001b[0;34m\u001b[0m\u001b[0;34m\u001b[0m\u001b[0m\n",
      "\u001b[0;32m<ipython-input-21-18c85864e78e>\u001b[0m in \u001b[0;36m<listcomp>\u001b[0;34m(.0)\u001b[0m\n\u001b[1;32m      4\u001b[0m \u001b[0mX\u001b[0m \u001b[0;34m=\u001b[0m \u001b[0mnp\u001b[0m\u001b[0;34m.\u001b[0m\u001b[0mlinspace\u001b[0m\u001b[0;34m(\u001b[0m\u001b[0;34m-\u001b[0m\u001b[0;36m4\u001b[0m\u001b[0;34m,\u001b[0m\u001b[0;36m4\u001b[0m\u001b[0;34m,\u001b[0m\u001b[0;36m100\u001b[0m\u001b[0;34m)\u001b[0m\u001b[0;34m.\u001b[0m\u001b[0mtolist\u001b[0m\u001b[0;34m(\u001b[0m\u001b[0;34m)\u001b[0m\u001b[0;34m\u001b[0m\u001b[0;34m\u001b[0m\u001b[0m\n\u001b[1;32m      5\u001b[0m \u001b[0;34m\u001b[0m\u001b[0m\n\u001b[0;32m----> 6\u001b[0;31m \u001b[0mfig\u001b[0m \u001b[0;34m=\u001b[0m \u001b[0mgo\u001b[0m\u001b[0;34m.\u001b[0m\u001b[0mFigure\u001b[0m\u001b[0;34m(\u001b[0m\u001b[0mdata\u001b[0m\u001b[0;34m=\u001b[0m\u001b[0mgo\u001b[0m\u001b[0;34m.\u001b[0m\u001b[0mScatter\u001b[0m\u001b[0;34m(\u001b[0m\u001b[0mx\u001b[0m\u001b[0;34m=\u001b[0m\u001b[0mX\u001b[0m\u001b[0;34m,\u001b[0m \u001b[0my\u001b[0m\u001b[0;34m=\u001b[0m\u001b[0;34m[\u001b[0m\u001b[0my\u001b[0m\u001b[0;34m.\u001b[0m\u001b[0mpdf\u001b[0m\u001b[0;34m(\u001b[0m\u001b[0mz\u001b[0m\u001b[0;34m)\u001b[0m \u001b[0;32mfor\u001b[0m \u001b[0mz\u001b[0m \u001b[0;32min\u001b[0m \u001b[0mX\u001b[0m\u001b[0;34m]\u001b[0m\u001b[0;34m)\u001b[0m\u001b[0;34m)\u001b[0m\u001b[0;34m\u001b[0m\u001b[0;34m\u001b[0m\u001b[0m\n\u001b[0m\u001b[1;32m      7\u001b[0m \u001b[0mfig\u001b[0m\u001b[0;34m.\u001b[0m\u001b[0mshow\u001b[0m\u001b[0;34m(\u001b[0m\u001b[0;34m)\u001b[0m\u001b[0;34m\u001b[0m\u001b[0;34m\u001b[0m\u001b[0m\n",
      "\u001b[0;31mNameError\u001b[0m: name 'y' is not defined"
     ]
    }
   ],
   "source": [
    "# 3.9. ORIGINAL CODE\n",
    "\n",
    "import plotly.graph_objects as go\n",
    "import numpy as np\n",
    "\n",
    "X = np.linspace(-4,4,100).tolist()\n",
    "\n",
    "fig = go.Figure(data=go.Scatter(x=X, y=[y.pdf(z) for z in X]))\n",
    "fig.show()"
   ]
  },
  {
   "cell_type": "markdown",
   "metadata": {},
   "source": [
    "#### Exercise\n",
    "\n"
   ]
  },
  {
   "cell_type": "markdown",
   "metadata": {},
   "source": [
    "Prove that $\\rvy$ is continuous (in the sense that it has a density),\n",
    "     as suggested by the figure *or* establish that the figure is\n",
    "     wrong or misleading.\n",
    "\n"
   ]
  },
  {
   "cell_type": "markdown",
   "metadata": {},
   "source": [
    "#### Proof\n",
    "\n"
   ]
  },
  {
   "cell_type": "markdown",
   "metadata": {},
   "source": [
    "Let $F_x$ denote the cdf of \\rvx.  We want to establish that the cdf\n",
    "of $\\rvy$, say $F_y(y)=\\Pr(\\rvy\\leq y)$ is a continuously differentiable\n",
    "function of $y$.  We use the fact that the distribution of $\\rvy$ is a\n",
    "convolution of $\\rvx$ and $\\rvs$, so that\n",
    "\n",
    "\\begin{equation} \n",
    "\\begin{split}\n",
    "    \\Pr(\\rvy\\leq y) &= \\Pr(\\rv{s} + \\rv{x}\\leq y ) \\\\\n",
    "                    &= \\sum_{s\\in\\Omega}\\Pr(\\rvx\\leq y-s|s)\\pi_s\\\\\n",
    "                    &= \\sum_{s\\in\\Omega}F_x(y-s)\\pi_s,\n",
    "\\end{split}\n",
    "\\end{equation}\n",
    "\n",
    "which is continuously differentiable in $y$, as required.\n",
    "\n"
   ]
  },
  {
   "cell_type": "markdown",
   "metadata": {},
   "source": [
    "### 4. [wright34](https://datahub.berkeley.edu/user/benjaminkrause/notebooks/ARE212_Materials/wright34.ipynb)"
   ]
  },
  {
   "cell_type": "markdown",
   "metadata": {},
   "source": [
    "or see [wright34 on github](https://github.com/ligonteaching/ARE212_Materials/blob/master/wright34.ipynb)"
   ]
  },
  {
   "cell_type": "markdown",
   "metadata": {},
   "source": [
    "### Quantities & Prices\n",
    "\n"
   ]
  },
  {
   "cell_type": "markdown",
   "metadata": {},
   "source": [
    "Suppose for some good we observe data on total quantity $q$ exchanged\n",
    "between buyers & sellers, and the prices $p$ at which these exchanges\n",
    "took place.  \n",
    "\n",
    "The following code creates a data generating process for $(q,p)$ based\n",
    "on Goldberger (1972), who in turn is describing the work of Sewall\n",
    "Wright (1934).  The demand-supply system is\n",
    "$$\n",
    "   q_D = \\alpha p + u\\qquad q_S = \\beta p + v\\qquad q_D = q_S,\n",
    "$$\n",
    "where $(u,v)$ are unobserved shocks to demand and supply,\n",
    "respectively. \n",
    "\n"
   ]
  },
  {
   "cell_type": "code",
   "execution_count": 1,
   "metadata": {},
   "outputs": [],
   "source": [
    "import numpy as np\n",
    "import pandas as pd\n",
    "from scipy.stats import distributions as iid\n",
    "\n",
    "# Structural parameters;\n",
    "(α,β) = (-1,2)     \n",
    "σ = {'u':1/2,'v':1/3}\n",
    "μ = {'u':2,'v':-1}\n",
    "\n",
    "# u,v assumed independent\n",
    "u = iid.norm(loc=μ['u'], scale=σ['u'])  # Demand shocks\n",
    "v = iid.norm(loc=μ['v'], scale=σ['v'])  # Supply shocks\n",
    "\n",
    "# Reduced form coefficients\n",
    "π = [[-β/(α - β), -1/(α - β)],\n",
    "     [ α/(α - β), 1/(α - β)]]\n",
    "\n",
    "# Generate N realizations of system\n",
    "# Outcomes Y have columns (q,p)\n",
    "N = 10\n",
    "\n",
    "# Arrange shocks into an Nx2 matrix\n",
    "U = np.c_[u.rvs(N), v.rvs(N)]\n",
    "\n",
    "# Matrix product gives [q,p]; label by putting into df\n",
    "df = pd.DataFrame(U@π,columns=['q','p'])\n",
    "Udf = pd.DataFrame(U,columns=['u','v']) # For future reference"
   ]
  },
  {
   "cell_type": "markdown",
   "metadata": {},
   "source": [
    "We can interrogate these data:\n",
    "\n"
   ]
  },
  {
   "cell_type": "code",
   "execution_count": 1,
   "metadata": {},
   "outputs": [],
   "source": [
    "df"
   ]
  },
  {
   "cell_type": "markdown",
   "metadata": {},
   "source": [
    "And compute the linear correlation&#x2026;\n",
    "\n"
   ]
  },
  {
   "cell_type": "code",
   "execution_count": 1,
   "metadata": {},
   "outputs": [],
   "source": [
    "df.corr()"
   ]
  },
  {
   "cell_type": "markdown",
   "metadata": {},
   "source": [
    "Or more generally the covariance matrix:\n",
    "\n"
   ]
  },
  {
   "cell_type": "code",
   "execution_count": 1,
   "metadata": {},
   "outputs": [],
   "source": [
    "C=df.cov()\n",
    "C"
   ]
  },
  {
   "cell_type": "markdown",
   "metadata": {},
   "source": [
    "From which we can calculate the linear regression coefficient\n",
    "of $p = a + bq + e$:\n",
    "\n"
   ]
  },
  {
   "cell_type": "code",
   "execution_count": 1,
   "metadata": {},
   "outputs": [],
   "source": [
    "C.loc['p','q']/C.loc['q','q']"
   ]
  },
  {
   "cell_type": "markdown",
   "metadata": {},
   "source": [
    "And learn about the probability density&#x2026;\n",
    "\n"
   ]
  },
  {
   "cell_type": "code",
   "execution_count": 1,
   "metadata": {},
   "outputs": [],
   "source": [
    "from scipy import stats\n",
    "import numpy as np\n",
    "\n",
    "# Estimate joint density of (q,p)\n",
    "pdf = stats.gaussian_kde(df.T).pdf \n",
    "\n",
    "ax = df.plot.scatter(x='q',y='p')\n",
    "\n",
    "v = ax.axis()\n",
    "Q = np.mgrid[v[0]:v[1]:100j].tolist()\n",
    "P = np.mgrid[v[2]:v[3]:100j].tolist()\n",
    "\n",
    "_ = ax.contour(Q,P,np.array([[pdf((q,p))[0] for p in P] for q in Q]))"
   ]
  },
  {
   "cell_type": "markdown",
   "metadata": {},
   "source": [
    "#### Counterfactual Demand & Supply Schedules\n",
    "\n"
   ]
  },
  {
   "cell_type": "markdown",
   "metadata": {},
   "source": [
    "What are the actual *counterfactual* demand and\n",
    "supply schedules?  This is the kind of thing that Frisch described as\n",
    "&ldquo;hypothetical experiments.&rdquo;  The schedules respond to shocks $u$ and $v$, respectively,\n",
    "yielding\n",
    "\n"
   ]
  },
  {
   "cell_type": "code",
   "execution_count": 1,
   "metadata": {},
   "outputs": [],
   "source": [
    "qmax = df['q'].max()\n",
    "qmin = df['q'].min()\n",
    "\n",
    "Q = pd.DataFrame({'min':np.maximum(0,df['q']-0.3*(qmax-qmin)),\n",
    "                  'max':np.minimum(qmax*1.2,df['q']+0.3*(qmax-qmin)),\n",
    "                  'miss':-1})\n",
    "\n",
    "# Inverse counterfactual demand & supply (for plotting)\n",
    "D = Q.add(-Udf['u'],axis=0)/α  \n",
    "S = Q.add(-Udf['v'],axis=0)/β\n",
    "\n",
    "counterfactual=pd.DataFrame({'S':S.stack(),\n",
    "                             'D':D.stack(),\n",
    "                             'Q':Q.stack()})\n",
    "\n",
    "counterfactual=counterfactual.replace(-1,np.nan)\n",
    "\n",
    "_ = counterfactual.plot(x='Q')"
   ]
  },
  {
   "cell_type": "markdown",
   "metadata": {},
   "source": [
    "#### Controlling Price\n",
    "\n"
   ]
  },
  {
   "cell_type": "markdown",
   "metadata": {},
   "source": [
    "Consider the question: what would expected demand be if we *fixed*\n",
    "    the price at $p_0$?  Expected supply?\n",
    "\n"
   ]
  },
  {
   "cell_type": "markdown",
   "metadata": {},
   "source": [
    "#### Average Causal Effect of a Change in Price\n",
    "\n"
   ]
  },
  {
   "cell_type": "markdown",
   "metadata": {},
   "source": [
    "What would expected demand be if we *observed* that the price was $p_0$?\n",
    "\n"
   ]
  },
  {
   "cell_type": "markdown",
   "metadata": {},
   "source": [
    "#### Price Change /Ceteris Paribus/\n",
    "\n"
   ]
  },
  {
   "cell_type": "markdown",
   "metadata": {},
   "source": [
    "Suppose we *observe* prices and quantities $(p_0,q_0)$.  How *would*\n",
    "    we expect the quantity demanded to change if prices were instead\n",
    "    fixed at $p_1$, *ceteris paribus*?\n",
    "\n"
   ]
  },
  {
   "cell_type": "markdown",
   "metadata": {},
   "source": [
    "## Final Word"
   ]
  },
  {
   "cell_type": "markdown",
   "metadata": {},
   "source": []
  }
 ],
 "metadata": {
  "kernelspec": {
   "display_name": "Python 3",
   "language": "python",
   "name": "python3"
  },
  "language_info": {
   "codemirror_mode": {
    "name": "ipython",
    "version": 3
   },
   "file_extension": ".py",
   "mimetype": "text/x-python",
   "name": "python",
   "nbconvert_exporter": "python",
   "pygments_lexer": "ipython3",
   "version": "3.6.9"
  },
  "org": null
 },
 "nbformat": 4,
 "nbformat_minor": 1
}
