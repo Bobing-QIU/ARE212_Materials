{
 "cells": [
  {
   "cell_type": "markdown",
   "id": "c4bac6c8",
   "metadata": {},
   "source": [
    "# Question 3 \n",
    "## (4)\n",
    "First we define the functions we need for GMM estimation. "
   ]
  },
  {
   "cell_type": "code",
   "execution_count": 1,
   "id": "49c999cd",
   "metadata": {},
   "outputs": [],
   "source": [
    "import numpy as np \n",
    "from numpy.linalg import inv \n",
    "from scipy.stats import distributions as iid \n",
    "from scipy.optimize import minimize\n",
    "\n",
    "#From here: https://stackoverflow.com/questions/4740172/how-do-you-a-double-factorial-in-python\n",
    "def doublefactorial(n):\n",
    "     if n <= 0:\n",
    "         return 1\n",
    "     else:\n",
    "         return n * doublefactorial(n-2)\n",
    "\n",
    "    \n",
    "def gj(b, x, k): \n",
    "    '''\n",
    "    b: [mu, sigma], parameters for normal dist.\n",
    "    x: a single observaton\n",
    "    k: number of moments\n",
    "    '''\n",
    "    (mu, sigma) = b\n",
    "    res = []\n",
    "    for i in range(1,k+1):\n",
    "        if (i % 2) == 0:\n",
    "            xk = (x - mu) ** i  - (sigma**i) * doublefactorial(i-1)\n",
    "        else: \n",
    "            xk = (x - mu) ** i \n",
    "        res.append(xk)\n",
    "    return res\n",
    "\n",
    "\n",
    "def gN(b, x_lst, k):\n",
    "    '''\n",
    "    Average of gj across all observations\n",
    "    b: [mu, sigma], parameters for normal dist.\n",
    "    x_lst: list of all observations\n",
    "    k: number of moments\n",
    "    '''\n",
    "    return np.mean([gj(b, x_lst[j], k) for j in range(len(x_lst))], axis=0)\n",
    "\n",
    "\n",
    "def Omegahat(b, x_lst, k):\n",
    "    e = np.array([gj(b, x_lst[j], k) for j in range(len(x_lst))])\n",
    "\n",
    "    # Recenter! We have Eu=0 under null.\n",
    "    # Important to use this information.\n",
    "    e = e - e.mean(axis=0)\n",
    "    \n",
    "    return e.T@e/e.shape[0]\n",
    "\n",
    "\n",
    "def J(b, W, x_lst, k): \n",
    "    m = gN(b, x_lst, k) # Sample moments @ b\n",
    "    N = len(x_lst)\n",
    "\n",
    "    return (N*m.T@W@m) # Scale by sample size\n",
    "\n",
    "\n",
    "def two_step_gmm(x_lst, k):\n",
    "    # First step uses identity weighting matrix; use mean and variance as initial guess \n",
    "    W1 = np.eye(len(gj([0, 1], x_lst[0], k)))\n",
    "    b1 = minimize(lambda b: J(b, W1, x_lst, k), [np.mean(x_lst), np.var(x_lst)]).x \n",
    "\n",
    "    # Construct 2nd step weighting matrix using first step estimate of beta\n",
    "    W2 = inv(Omegahat(b1, x_lst, k))\n",
    "\n",
    "    return minimize(lambda b: J(b, W2, x_lst, k), b1)"
   ]
  },
  {
   "cell_type": "markdown",
   "id": "3125864f",
   "metadata": {},
   "source": [
    "Then we generate a sample from random normal distribution and show that this sample could pass the test. We also show that a sample generated from a uniform distribution cannot pass the test. "
   ]
  },
  {
   "cell_type": "code",
   "execution_count": 2,
   "id": "5b0d417f",
   "metadata": {},
   "outputs": [
    {
     "name": "stdout",
     "output_type": "stream",
     "text": [
      "Normal distribution: b = [2.04770465 2.02492157], J = 0.6528417440327475, Critical J = 5.991464547107983\n",
      "Uniform distribution: b = [ 3.04667763 -0.43820397], J = 395.746072472824, Critical J = 5.991464547107983\n"
     ]
    }
   ],
   "source": [
    "# Estimation parameters\n",
    "N = 1000\n",
    "k = 4\n",
    "mu, sigma = [2, 2]\n",
    "\n",
    "# Limiting distribution of criterion (under null)\n",
    "limiting_J = iid.chi2(k-2)\n",
    "\n",
    "# Normal distribution \n",
    "X_norm = iid.norm.rvs(loc=mu, scale=sigma, size=(N, )) \n",
    "soltn = two_step_gmm(X_norm, k)\n",
    "print(f'Normal distribution: b = {soltn.x}, J = {soltn.fun}, Critical J = {limiting_J.isf(0.05)}')\n",
    "\n",
    "# Uniform distribution \n",
    "X_uni = iid.uniform.rvs(loc=mu, scale=sigma, size=(N, )) \n",
    "soltn_uni = two_step_gmm(X_uni, k)\n",
    "print(f'Uniform distribution: b = {soltn_uni.x}, J = {soltn_uni.fun}, Critical J = {limiting_J.isf(0.05)}')"
   ]
  },
  {
   "cell_type": "markdown",
   "id": "9592b51c",
   "metadata": {},
   "source": [
    "## (5)\n",
    "To investigate the optimal choice of $k$, we vary the range of $k$ to see how the test performs. "
   ]
  },
  {
   "cell_type": "code",
   "execution_count": 3,
   "id": "fd4a9eb8",
   "metadata": {},
   "outputs": [
    {
     "name": "stdout",
     "output_type": "stream",
     "text": [
      "k = 3: b = [1.9355771  3.07344789], J = 1.0282288819028869, Critical J = 3.8414588206941285\n",
      "k = 4: b = [1.93919631 3.06078916], J = 1.748572942496421, Critical J = 5.991464547107983\n",
      "k = 5: b = [1.94157507 3.06553835], J = 2.775989261613541, Critical J = 7.814727903251178\n",
      "k = 6: b = [1.93767542 3.065625  ], J = 3.129897558888567, Critical J = 9.487729036781158\n",
      "k = 7: b = [1.96129894 3.05676398], J = 4.520200333474239, Critical J = 11.070497693516355\n",
      "k = 8: b = [1.95166204 3.00862502], J = 9.186841821324691, Critical J = 12.59158724374398\n",
      "k = 9: b = [1.98455238 2.98269023], J = 11.826314274134944, Critical J = 14.067140449340167\n",
      "k = 10: b = [1.96152567 2.95481371], J = 12.362543407705488, Critical J = 15.507313055865454\n",
      "k = 11: b = [2.17454125 2.93260544], J = 21.231133673900985, Critical J = 16.91897760462045\n"
     ]
    },
    {
     "name": "stderr",
     "output_type": "stream",
     "text": [
      "C:\\Users\\Bobing\\AppData\\Local\\Temp\\ipykernel_40672\\1302096430.py:55: RuntimeWarning: overflow encountered in matmul\n",
      "  return (N*m.T@W@m) # Scale by sample size\n",
      "C:\\Users\\Bobing\\anaconda3\\lib\\site-packages\\scipy\\optimize\\_numdiff.py:576: RuntimeWarning: invalid value encountered in subtract\n",
      "  df = fun(x) - f0\n",
      "C:\\Users\\Bobing\\AppData\\Local\\Temp\\ipykernel_40672\\1302096430.py:55: RuntimeWarning: invalid value encountered in matmul\n",
      "  return (N*m.T@W@m) # Scale by sample size\n",
      "C:\\Users\\Bobing\\AppData\\Local\\Temp\\ipykernel_40672\\1302096430.py:24: RuntimeWarning: overflow encountered in double_scalars\n",
      "  xk = (x - mu) ** i  - (sigma**i) * doublefactorial(i-1)\n",
      "C:\\Users\\Bobing\\anaconda3\\lib\\site-packages\\numpy\\core\\_methods.py:180: RuntimeWarning: overflow encountered in reduce\n",
      "  ret = umr_sum(arr, axis, dtype, out, keepdims, where=where)\n",
      "C:\\Users\\Bobing\\AppData\\Local\\Temp\\ipykernel_40672\\1302096430.py:26: RuntimeWarning: overflow encountered in double_scalars\n",
      "  xk = (x - mu) ** i\n",
      "C:\\Users\\Bobing\\AppData\\Local\\Temp\\ipykernel_40672\\1302096430.py:24: RuntimeWarning: invalid value encountered in double_scalars\n",
      "  xk = (x - mu) ** i  - (sigma**i) * doublefactorial(i-1)\n"
     ]
    },
    {
     "name": "stdout",
     "output_type": "stream",
     "text": [
      "k = 12: b = [ 1.81510132e+10 -2.48190475e+03], J = -5.565333590361614e+229, Critical J = 18.30703805327515\n",
      "k = 13: b = [2.25514737 2.80957093], J = 37.38630283738803, Critical J = 19.67513757268249\n",
      "k = 14: b = [2.24585193 2.6911668 ], J = 52.32697649071633, Critical J = 21.02606981748307\n"
     ]
    }
   ],
   "source": [
    "N = 1000\n",
    "mu, sigma = [2, 3]\n",
    "X = iid.norm.rvs(loc=mu, scale=sigma, size=(N, )) \n",
    "for k in range(3, 15): \n",
    "    soltn = two_step_gmm(X, k)\n",
    "    limiting_J = iid.chi2(k-2)\n",
    "    print(f'k = {k}: b = {soltn.x}, J = {soltn.fun}, Critical J = {limiting_J.isf(0.05)}')"
   ]
  },
  {
   "cell_type": "code",
   "execution_count": 4,
   "id": "3022cd7b",
   "metadata": {},
   "outputs": [
    {
     "name": "stdout",
     "output_type": "stream",
     "text": [
      "k = 3: b = [2.04591427 1.27005583], J = 67.88286169692383, Critical J = 3.8414588206941285\n",
      "k = 4: b = [2.01722912 1.20616716], J = 127.61668123429563, Critical J = 5.991464547107983\n",
      "k = 5: b = [2.00004534 1.22575749], J = 158.18292102700434, Critical J = 7.814727903251178\n",
      "k = 6: b = [1.92596794 1.08145791], J = 255.02406595153377, Critical J = 9.487729036781158\n",
      "k = 7: b = [2.85519638 1.12654369], J = 554.1827935454156, Critical J = 11.070497693516355\n",
      "k = 8: b = [1.95644022 1.04034261], J = 335.364664321286, Critical J = 12.59158724374398\n"
     ]
    },
    {
     "name": "stderr",
     "output_type": "stream",
     "text": [
      "C:\\Users\\Bobing\\AppData\\Local\\Temp\\ipykernel_40672\\1302096430.py:55: RuntimeWarning: overflow encountered in matmul\n",
      "  return (N*m.T@W@m) # Scale by sample size\n",
      "C:\\Users\\Bobing\\anaconda3\\lib\\site-packages\\scipy\\optimize\\_numdiff.py:576: RuntimeWarning: invalid value encountered in subtract\n",
      "  df = fun(x) - f0\n",
      "C:\\Users\\Bobing\\AppData\\Local\\Temp\\ipykernel_40672\\1302096430.py:55: RuntimeWarning: invalid value encountered in matmul\n",
      "  return (N*m.T@W@m) # Scale by sample size\n",
      "C:\\Users\\Bobing\\anaconda3\\lib\\site-packages\\numpy\\core\\_methods.py:180: RuntimeWarning: overflow encountered in reduce\n",
      "  ret = umr_sum(arr, axis, dtype, out, keepdims, where=where)\n",
      "C:\\Users\\Bobing\\AppData\\Local\\Temp\\ipykernel_40672\\1302096430.py:26: RuntimeWarning: overflow encountered in double_scalars\n",
      "  xk = (x - mu) ** i\n",
      "C:\\Users\\Bobing\\AppData\\Local\\Temp\\ipykernel_40672\\1302096430.py:24: RuntimeWarning: overflow encountered in double_scalars\n",
      "  xk = (x - mu) ** i  - (sigma**i) * doublefactorial(i-1)\n",
      "C:\\Users\\Bobing\\AppData\\Local\\Temp\\ipykernel_40672\\1302096430.py:24: RuntimeWarning: invalid value encountered in double_scalars\n",
      "  xk = (x - mu) ** i  - (sigma**i) * doublefactorial(i-1)\n",
      "C:\\Users\\Bobing\\AppData\\Local\\Temp\\ipykernel_40672\\1302096430.py:55: RuntimeWarning: overflow encountered in matmul\n",
      "  return (N*m.T@W@m) # Scale by sample size\n",
      "C:\\Users\\Bobing\\anaconda3\\lib\\site-packages\\scipy\\optimize\\_numdiff.py:576: RuntimeWarning: invalid value encountered in subtract\n",
      "  df = fun(x) - f0\n"
     ]
    },
    {
     "name": "stdout",
     "output_type": "stream",
     "text": [
      "k = 9: b = [-140.99233079 1025.57033256], J = -1.1389936848516467e+62, Critical J = 14.067140449340167\n",
      "k = 10: b = [2.4403897  0.37905289], J = 5454064741588.281, Critical J = 15.507313055865454\n"
     ]
    },
    {
     "name": "stderr",
     "output_type": "stream",
     "text": [
      "C:\\Users\\Bobing\\AppData\\Local\\Temp\\ipykernel_40672\\1302096430.py:55: RuntimeWarning: overflow encountered in matmul\n",
      "  return (N*m.T@W@m) # Scale by sample size\n",
      "C:\\Users\\Bobing\\anaconda3\\lib\\site-packages\\scipy\\optimize\\_numdiff.py:576: RuntimeWarning: invalid value encountered in subtract\n",
      "  df = fun(x) - f0\n",
      "C:\\Users\\Bobing\\AppData\\Local\\Temp\\ipykernel_40672\\1302096430.py:55: RuntimeWarning: invalid value encountered in matmul\n",
      "  return (N*m.T@W@m) # Scale by sample size\n",
      "C:\\Users\\Bobing\\AppData\\Local\\Temp\\ipykernel_40672\\1302096430.py:26: RuntimeWarning: overflow encountered in double_scalars\n",
      "  xk = (x - mu) ** i\n",
      "C:\\Users\\Bobing\\AppData\\Local\\Temp\\ipykernel_40672\\1302096430.py:24: RuntimeWarning: overflow encountered in double_scalars\n",
      "  xk = (x - mu) ** i  - (sigma**i) * doublefactorial(i-1)\n",
      "C:\\Users\\Bobing\\AppData\\Local\\Temp\\ipykernel_40672\\1302096430.py:24: RuntimeWarning: invalid value encountered in double_scalars\n",
      "  xk = (x - mu) ** i  - (sigma**i) * doublefactorial(i-1)\n",
      "C:\\Users\\Bobing\\anaconda3\\lib\\site-packages\\numpy\\core\\_methods.py:180: RuntimeWarning: overflow encountered in reduce\n",
      "  ret = umr_sum(arr, axis, dtype, out, keepdims, where=where)\n"
     ]
    },
    {
     "name": "stdout",
     "output_type": "stream",
     "text": [
      "k = 11: b = [-1701.61142589  -317.28375279], J = -4.743502242376506e+74, Critical J = 16.91897760462045\n",
      "k = 12: b = [3.13448503 0.72951615], J = -105682376.17480469, Critical J = 18.30703805327515\n",
      "k = 13: b = [3.98349611 1.60978832], J = -328148291193840.0, Critical J = 19.67513757268249\n"
     ]
    },
    {
     "name": "stderr",
     "output_type": "stream",
     "text": [
      "C:\\Users\\Bobing\\AppData\\Local\\Temp\\ipykernel_40672\\1302096430.py:55: RuntimeWarning: overflow encountered in matmul\n",
      "  return (N*m.T@W@m) # Scale by sample size\n",
      "C:\\Users\\Bobing\\anaconda3\\lib\\site-packages\\scipy\\optimize\\_numdiff.py:576: RuntimeWarning: invalid value encountered in subtract\n",
      "  df = fun(x) - f0\n",
      "C:\\Users\\Bobing\\AppData\\Local\\Temp\\ipykernel_40672\\1302096430.py:55: RuntimeWarning: invalid value encountered in matmul\n",
      "  return (N*m.T@W@m) # Scale by sample size\n",
      "C:\\Users\\Bobing\\AppData\\Local\\Temp\\ipykernel_40672\\1302096430.py:24: RuntimeWarning: overflow encountered in double_scalars\n",
      "  xk = (x - mu) ** i  - (sigma**i) * doublefactorial(i-1)\n",
      "C:\\Users\\Bobing\\AppData\\Local\\Temp\\ipykernel_40672\\1302096430.py:24: RuntimeWarning: invalid value encountered in double_scalars\n",
      "  xk = (x - mu) ** i  - (sigma**i) * doublefactorial(i-1)\n",
      "C:\\Users\\Bobing\\anaconda3\\lib\\site-packages\\numpy\\core\\_methods.py:180: RuntimeWarning: overflow encountered in reduce\n",
      "  ret = umr_sum(arr, axis, dtype, out, keepdims, where=where)\n",
      "C:\\Users\\Bobing\\AppData\\Local\\Temp\\ipykernel_40672\\1302096430.py:26: RuntimeWarning: overflow encountered in double_scalars\n",
      "  xk = (x - mu) ** i\n",
      "C:\\Users\\Bobing\\AppData\\Local\\Temp\\ipykernel_40672\\1302096430.py:26: RuntimeWarning: overflow encountered in double_scalars\n",
      "  xk = (x - mu) ** i\n",
      "C:\\Users\\Bobing\\AppData\\Local\\Temp\\ipykernel_40672\\1302096430.py:24: RuntimeWarning: overflow encountered in double_scalars\n",
      "  xk = (x - mu) ** i  - (sigma**i) * doublefactorial(i-1)\n",
      "C:\\Users\\Bobing\\AppData\\Local\\Temp\\ipykernel_40672\\1302096430.py:24: RuntimeWarning: invalid value encountered in double_scalars\n",
      "  xk = (x - mu) ** i  - (sigma**i) * doublefactorial(i-1)\n",
      "C:\\Users\\Bobing\\AppData\\Local\\Temp\\ipykernel_40672\\1302096430.py:55: RuntimeWarning: invalid value encountered in matmul\n",
      "  return (N*m.T@W@m) # Scale by sample size\n"
     ]
    },
    {
     "name": "stdout",
     "output_type": "stream",
     "text": [
      "k = 14: b = [-8.53029563e+67  3.38185571e+71], J = nan, Critical J = 21.02606981748307\n"
     ]
    },
    {
     "name": "stderr",
     "output_type": "stream",
     "text": [
      "C:\\Users\\Bobing\\AppData\\Local\\Temp\\ipykernel_40672\\1302096430.py:26: RuntimeWarning: overflow encountered in double_scalars\n",
      "  xk = (x - mu) ** i\n",
      "C:\\Users\\Bobing\\AppData\\Local\\Temp\\ipykernel_40672\\1302096430.py:24: RuntimeWarning: overflow encountered in double_scalars\n",
      "  xk = (x - mu) ** i  - (sigma**i) * doublefactorial(i-1)\n",
      "C:\\Users\\Bobing\\AppData\\Local\\Temp\\ipykernel_40672\\1302096430.py:24: RuntimeWarning: invalid value encountered in double_scalars\n",
      "  xk = (x - mu) ** i  - (sigma**i) * doublefactorial(i-1)\n",
      "C:\\Users\\Bobing\\AppData\\Local\\Temp\\ipykernel_40672\\1302096430.py:55: RuntimeWarning: invalid value encountered in matmul\n",
      "  return (N*m.T@W@m) # Scale by sample size\n"
     ]
    }
   ],
   "source": [
    "# Try poisson distribution, which cannot pass the test \n",
    "N = 1000\n",
    "mu, sigma = [2, 3]\n",
    "X = iid.poisson.rvs(mu, size=(N, )) \n",
    "for k in range(3, 15): \n",
    "    soltn = two_step_gmm(X, k)\n",
    "    limiting_J = iid.chi2(k-2)\n",
    "    print(f'k = {k}: b = {soltn.x}, J = {soltn.fun}, Critical J = {limiting_J.isf(0.05)}')"
   ]
  },
  {
   "cell_type": "markdown",
   "id": "7cc0c1a5",
   "metadata": {},
   "source": [
    "## (6)\n",
    "We estimate the parameters $(\\mu, \\sigma)$ using maximum likelihood approach and compare them with that from GMM. "
   ]
  },
  {
   "cell_type": "code",
   "execution_count": 7,
   "id": "19e63f48",
   "metadata": {},
   "outputs": [
    {
     "name": "stdout",
     "output_type": "stream",
     "text": [
      "MLE: b = [2.17808077 3.01989634]\n"
     ]
    }
   ],
   "source": [
    "def neg_log_likelihood(b, x_lst): \n",
    "    mu, sigma = b\n",
    "    n = len(x_lst)\n",
    "    ll = -n/2*np.log(2*np.pi*sigma**2) - 1/(2*sigma**2)*np.sum((x_lst-mu)**2)\n",
    "    return -ll \n",
    "\n",
    "def MLE(x_lst): \n",
    "    initial_guess = [np.mean(x_lst), np.var(x_lst)]\n",
    "    return minimize(lambda b: neg_log_likelihood(b, x_lst), initial_guess)\n",
    "\n",
    "X = iid.norm.rvs(loc=mu, scale=sigma, size=(N, )) \n",
    "soltn = MLE(X)\n",
    "print(f'MLE: b = {soltn.x}')"
   ]
  }
 ],
 "metadata": {
  "kernelspec": {
   "display_name": "Python 3 (ipykernel)",
   "language": "python",
   "name": "python3"
  },
  "language_info": {
   "codemirror_mode": {
    "name": "ipython",
    "version": 3
   },
   "file_extension": ".py",
   "mimetype": "text/x-python",
   "name": "python",
   "nbconvert_exporter": "python",
   "pygments_lexer": "ipython3",
   "version": "3.10.9"
  }
 },
 "nbformat": 4,
 "nbformat_minor": 5
}
