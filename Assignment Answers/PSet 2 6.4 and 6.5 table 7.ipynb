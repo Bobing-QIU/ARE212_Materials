{
 "cells": [
  {
   "cell_type": "code",
   "execution_count": 1,
   "id": "c717a4ed",
   "metadata": {},
   "outputs": [],
   "source": [
    "import numpy as np \n",
    "import pandas as pd \n",
    "from scipy.stats import distributions as iid\n",
    "import statsmodels.api as sm\n",
    "from matplotlib import pyplot as plt \n",
    "from scipy.optimize import minimize_scalar"
   ]
  },
  {
   "cell_type": "code",
   "execution_count": 2,
   "id": "3c68dc37",
   "metadata": {},
   "outputs": [],
   "source": [
    "data = pd.read_stata('/Users/cassturk/Downloads/angrist-krueger91.dta')"
   ]
  },
  {
   "cell_type": "code",
   "execution_count": 3,
   "id": "421068d5",
   "metadata": {},
   "outputs": [],
   "source": [
    "data = data.head(10000)"
   ]
  },
  {
   "cell_type": "code",
   "execution_count": 22,
   "id": "85e8c954",
   "metadata": {},
   "outputs": [
    {
     "name": "stdout",
     "output_type": "stream",
     "text": [
      "(1, 10000)\n",
      "(146, 10000)\n",
      "(185, 10000)\n"
     ]
    }
   ],
   "source": [
    "#readying data\n",
    "j =pd.get_dummies(data['yob'])\n",
    "\n",
    "j = j.drop(columns = [1939])\n",
    "\n",
    "h = data['qob'].astype(str)+data['state'].astype(str)\n",
    "hi = pd.get_dummies(h)\n",
    "\n",
    "used = list(set(list(h)))\n",
    "opened = []\n",
    "for thing in used:\n",
    "    if thing.startswith('3')==True:\n",
    "        opened.append(thing)\n",
    "\n",
    "#dropping linear combinations\n",
    "his = hi.drop(columns = opened)\n",
    "\n",
    "m = data['yob'].astype(str)+data['qob'].astype(str)\n",
    "l = pd.get_dummies(m)\n",
    "\n",
    "n = pd.get_dummies(data['region'])\n",
    "\n",
    "d = np.array([list(data['logwage'])])\n",
    "a= np.array([list(data['edu'])])\n",
    "\n",
    "\n",
    "#print(np.array(data['black']).T.shape)\n",
    "\n",
    "b = np.r_[a,np.array(j).T, np.array([list(data['black'])]), np.array([list(data['smsa'])]), np.array([list(data['married'])]) ,np.array(n).T, np.array(his).T]\n",
    "\n",
    "z = np.r_[np.array(l).T, np.array(j).T, np.array([list(data['black'])]), \n",
    "              np.array([list(data['smsa'])]), np.array([list(data['married'])]), np.array(n).T, np.array(his).T]\n",
    "\n",
    "print(d.shape)\n",
    "print(b.shape)\n",
    "print(z.shape)"
   ]
  },
  {
   "cell_type": "code",
   "execution_count": 5,
   "id": "248c1e7b",
   "metadata": {},
   "outputs": [
    {
     "data": {
      "text/plain": [
       "array([ 6.03282848e-02,  4.75095146e-02,  3.16650370e-02,  4.02320745e-02,\n",
       "        3.28703607e-02,  3.38075420e-02,  6.06281962e-03, -1.58351338e-02,\n",
       "       -5.82170153e-02, -5.71279610e-02,  4.06974115e+00,  1.41918162e-01,\n",
       "        2.01549521e-01,  6.22589083e-01,  7.03713231e-01,  3.59724292e-01,\n",
       "        5.52065291e-01,  5.46791266e-01,  3.99158846e-01,  5.40622597e-01,\n",
       "        3.45076543e-01, -4.50245701e-02, -1.20367465e-01,  2.75434469e-01,\n",
       "       -6.39384941e-02, -2.38992519e-02, -4.24562393e-01, -1.31605615e-02,\n",
       "       -5.95659328e-02,  1.13986439e-01,  5.09969596e-01, -1.24758330e-01,\n",
       "        6.68201558e-02, -3.35856788e-02, -1.41161713e-01, -2.26997638e-01,\n",
       "        2.42358053e-01, -1.28389345e-01,  2.17850230e-01, -5.28260214e-02,\n",
       "       -1.90722683e-01,  4.20900317e-01, -1.54092339e-01,  2.41024659e-01,\n",
       "        2.82365306e-01,  1.20345657e-01,  1.61125822e-01, -8.51793293e-01,\n",
       "        2.41968204e-01,  1.01870311e-01,  1.02516746e-03,  2.33480466e-01,\n",
       "        5.33558757e-02,  8.65620846e-02,  2.00660020e-02, -5.90395427e-03,\n",
       "       -4.97528515e-02, -2.64947889e-01,  7.34344423e-02,  3.55573382e-01,\n",
       "       -2.72649677e-01, -3.51777887e-01,  4.07134285e-02, -8.23504086e-02,\n",
       "       -1.21111078e-01,  2.29854858e-01,  1.80236654e-02, -9.25800723e-02,\n",
       "        2.44188407e-03, -2.04526737e-01,  4.38547164e-01,  1.77632948e+00,\n",
       "       -7.17899093e-02,  4.69170429e-02,  1.28446481e-03, -2.25128415e-02,\n",
       "        6.34454559e-02,  1.26645996e-01, -2.51725923e-01,  6.51737516e-02,\n",
       "       -1.06402924e-01, -4.61656439e-01, -8.21730913e-02, -1.45709285e-01,\n",
       "        1.49066784e-01, -8.18361854e-03,  5.52825938e-02,  1.94081498e-01,\n",
       "        1.99418396e-01,  1.59743543e-01,  1.88298945e-02,  5.35422217e-02,\n",
       "        5.09464770e-02, -2.89028584e-02,  4.11827867e-02,  1.98788802e-01,\n",
       "        1.35865837e-01, -1.26877571e-01,  2.25458716e-01, -1.46915989e-01,\n",
       "       -3.20310207e-01, -5.72792039e-02, -4.29330830e-02,  2.44616278e-01,\n",
       "        1.60680480e-01,  4.40737964e-02, -5.88800804e-02,  3.37868522e-01,\n",
       "       -9.87501000e-03, -2.99397078e-01,  3.66906579e-02, -2.75085088e+00,\n",
       "        2.23879951e-01,  3.97303455e-02,  3.45544730e-02,  1.30945882e-01,\n",
       "       -6.26006152e-01,  1.12083293e-01, -1.58397505e-01, -2.63283101e-02,\n",
       "       -1.44035374e-01,  3.05535576e-02, -1.79411700e-01,  6.02250569e-01,\n",
       "        1.77275895e-01,  3.07940393e-01, -6.15888912e-02,  1.12780917e-01,\n",
       "       -1.52909098e-02,  1.85678462e-01, -5.72769557e-03, -1.11250249e-01,\n",
       "        5.67711179e-02, -1.49055233e-01,  2.16751471e-01,  8.84252785e-02,\n",
       "        3.03148716e-02, -4.88001981e-01,  1.90968869e-02,  2.47809030e-01,\n",
       "       -2.85005595e-02,  1.04592987e-01,  1.25877163e-01,  4.06730946e-02,\n",
       "       -4.88782306e-01, -2.75839515e-03])"
      ]
     },
     "execution_count": 5,
     "metadata": {},
     "output_type": "execute_result"
    }
   ],
   "source": [
    "#getting values for covariates\n",
    "j =pd.get_dummies(data['yob'])\n",
    "\n",
    "m = data['yob'].astype(str)+data['qob'].astype(str)\n",
    "\n",
    "\n",
    "l = pd.get_dummies(m)\n",
    "\n",
    "l = l.drop(columns=['19393', '19391', '19392', '19394', '19303', '19313', '19323', \n",
    "                        '19333', '19343','19353', '19363','19373'])\n",
    "j = j.drop(columns = [1939])\n",
    "\n",
    "d = np.array([list(data['logwage'])])\n",
    "a= np.array([list(data['edu'])])\n",
    "\n",
    "b = np.r_[a,np.array(j).T, np.array([list(data['black'])]), np.array([list(data['smsa'])]), np.array([list(data['married'])]) ,np.array(n).T, np.array(his).T]\n",
    "\n",
    "model = sm.OLS(d.T,b.T)\n",
    "results = model.fit()\n",
    "results.params"
   ]
  },
  {
   "cell_type": "code",
   "execution_count": 6,
   "id": "caf0ecf6",
   "metadata": {},
   "outputs": [],
   "source": [
    "vals = [4.75095146e-02,  3.16650370e-02,  4.02320745e-02,\n",
    "        3.28703607e-02,  3.38075420e-02,  6.06281962e-03, -1.58351338e-02,\n",
    "       -5.82170153e-02, -5.71279610e-02,  4.06974115e+00,  1.41918162e-01,\n",
    "        2.01549521e-01,  6.22589083e-01,  7.03713231e-01,  3.59724292e-01,\n",
    "        5.52065291e-01,  5.46791266e-01,  3.99158846e-01,  5.40622597e-01,\n",
    "        3.45076543e-01, -4.50245701e-02, -1.20367465e-01,  2.75434469e-01,\n",
    "       -6.39384941e-02, -2.38992519e-02, -4.24562393e-01, -1.31605615e-02,\n",
    "       -5.95659328e-02,  1.13986439e-01,  5.09969596e-01, -1.24758330e-01,\n",
    "        6.68201558e-02, -3.35856788e-02, -1.41161713e-01, -2.26997638e-01,\n",
    "        2.42358053e-01, -1.28389345e-01,  2.17850230e-01, -5.28260214e-02,\n",
    "       -1.90722683e-01,  4.20900317e-01, -1.54092339e-01,  2.41024659e-01,\n",
    "        2.82365306e-01,  1.20345657e-01,  1.61125822e-01, -8.51793293e-01,\n",
    "        2.41968204e-01,  1.01870311e-01,  1.02516746e-03,  2.33480466e-01,\n",
    "        5.33558757e-02,  8.65620846e-02,  2.00660020e-02, -5.90395427e-03,\n",
    "       -4.97528515e-02, -2.64947889e-01,  7.34344423e-02,  3.55573382e-01,\n",
    "       -2.72649677e-01, -3.51777887e-01,  4.07134285e-02, -8.23504086e-02,\n",
    "       -1.21111078e-01,  2.29854858e-01,  1.80236654e-02, -9.25800723e-02,\n",
    "        2.44188407e-03, -2.04526737e-01,  4.38547164e-01,  1.77632948e+00,\n",
    "       -7.17899093e-02,  4.69170429e-02,  1.28446481e-03, -2.25128415e-02,\n",
    "        6.34454559e-02,  1.26645996e-01, -2.51725923e-01,  6.51737516e-02,\n",
    "       -1.06402924e-01, -4.61656439e-01, -8.21730913e-02, -1.45709285e-01,\n",
    "        1.49066784e-01, -8.18361854e-03,  5.52825938e-02,  1.94081498e-01,\n",
    "        1.99418396e-01,  1.59743543e-01,  1.88298945e-02,  5.35422217e-02,\n",
    "        5.09464770e-02, -2.89028584e-02,  4.11827867e-02,  1.98788802e-01,\n",
    "        1.35865837e-01, -1.26877571e-01,  2.25458716e-01, -1.46915989e-01,\n",
    "       -3.20310207e-01, -5.72792039e-02, -4.29330830e-02,  2.44616278e-01,\n",
    "        1.60680480e-01,  4.40737964e-02, -5.88800804e-02,  3.37868522e-01,\n",
    "       -9.87501000e-03, -2.99397078e-01,  3.66906579e-02, -2.75085088e+00,\n",
    "        2.23879951e-01,  3.97303455e-02,  3.45544730e-02,  1.30945882e-01,\n",
    "       -6.26006152e-01,  1.12083293e-01, -1.58397505e-01, -2.63283101e-02,\n",
    "       -1.44035374e-01,  3.05535576e-02, -1.79411700e-01,  6.02250569e-01,\n",
    "        1.77275895e-01,  3.07940393e-01, -6.15888912e-02,  1.12780917e-01,\n",
    "       -1.52909098e-02,  1.85678462e-01, -5.72769557e-03, -1.11250249e-01,\n",
    "        5.67711179e-02, -1.49055233e-01,  2.16751471e-01,  8.84252785e-02,\n",
    "        3.03148716e-02, -4.88001981e-01,  1.90968869e-02,  2.47809030e-01,\n",
    "       -2.85005595e-02,  1.04592987e-01,  1.25877163e-01,  4.06730946e-02,\n",
    "       -4.88782306e-01, -2.75839515e-03]\n",
    "\n",
    "def p_val(y, x, Z, beta0): \n",
    "    '''\n",
    "    Compute p-value from an F test on \\gamma = 0 \n",
    "    \n",
    "    Input: y, x, Z, beta0 (guess of true beta)\n",
    "    \n",
    "    Ouput: p-value \n",
    "    '''\n",
    "    hmm = beta0\n",
    "    beta1 = [hmm]\n",
    "    for item in vals:\n",
    "        beta1.append(item )\n",
    "    beta1 = np.array([beta1])\n",
    "    #print(np.array([y.squeeze()]))\n",
    "    #print(y.shape)\n",
    "    #print((beta1@x.T).T.shape)\n",
    "    #print(Z.shape)\n",
    "    \n",
    "    \n",
    "    yh = np.subtract(y , (beta1@x.T).T) # transform the LHS var\n",
    "    #print(yh.shape)\n",
    "    #print(yh)\n",
    "    model = sm.OLS(yh, Z)\n",
    "    lm = model.fit() # fit the linear model \n",
    "    #print(lm.params)\n",
    "    return lm.f_pvalue # return p value from F test\n"
   ]
  },
  {
   "cell_type": "code",
   "execution_count": 20,
   "id": "8ede9f4d",
   "metadata": {},
   "outputs": [],
   "source": [
    "\n",
    "\n",
    "def max_p(y, x, Z):\n",
    "    '''\n",
    "    Obtain the estimate beta0 that max p-value \n",
    "    \n",
    "    Input: y, x, Z \n",
    "    \n",
    "    Output: beta0, max p-value \n",
    "    '''\n",
    "    beta_lst = list(np.arange(-1, 3, 0.01)) # Try beta0 in this range \n",
    "    p_lst = [] \n",
    "    \n",
    "    for i in range(len(beta_lst)): # get p-value for each corresponding beta0\n",
    "        p_lst.append(p_val(y, x, Z, beta_lst[i])) \n",
    "    p_dict = dict(zip(beta_lst, p_lst))\n",
    "    \n",
    "    max_beta = max(p_dict, key=p_dict.get)\n",
    "    max_pval = p_dict[max_beta] # maxinmal pval and beta \n",
    "    \n",
    "    ci_beta = list(dict(filter(lambda item: item[1]>=0.05, p_dict.items())).keys()) \n",
    "    ci = [ci_beta[0], ci_beta[-1]] # confidence interval \n",
    "    \n",
    "    return max_beta, max_pval, ci\n",
    "\n"
   ]
  },
  {
   "cell_type": "code",
   "execution_count": 9,
   "id": "ab74dae5",
   "metadata": {},
   "outputs": [
    {
     "name": "stdout",
     "output_type": "stream",
     "text": [
      "(1, 10000)\n",
      "(21, 10000)\n",
      "(60, 10000)\n"
     ]
    }
   ],
   "source": [
    "#readying data\n",
    "j =pd.get_dummies(data['yob'])\n",
    "\n",
    "j = j.drop(columns = [1939])\n",
    "\n",
    "m = data['yob'].astype(str)+data['qob'].astype(str)\n",
    "l = pd.get_dummies(m)\n",
    "\n",
    "n = pd.get_dummies(data['region'])\n",
    "\n",
    "d = np.array([list(data['logwage'])])\n",
    "a= np.array([list(data['edu'])])\n",
    "\n",
    "\n",
    "#print(np.array(data['black']).T.shape)\n",
    "\n",
    "b = np.r_[a,np.array(j).T, np.array([list(data['black'])]), np.array([list(data['smsa'])]), np.array([list(data['married'])]) ,np.array(n).T]\n",
    "\n",
    "z = np.r_[np.array(l).T, np.array(j).T, np.array([list(data['black'])]), \n",
    "              np.array([list(data['smsa'])]), np.array([list(data['married'])]), np.array(n).T]\n",
    "\n",
    "print(d.shape)\n",
    "print(b.shape)\n",
    "print(z.shape)\n"
   ]
  },
  {
   "cell_type": "code",
   "execution_count": 12,
   "id": "8e496a61",
   "metadata": {
    "scrolled": true
   },
   "outputs": [
    {
     "name": "stdout",
     "output_type": "stream",
     "text": [
      "(0.04, 0.9999999999999999, [0.0, 0.13])\n",
      "The estimated coefficient is 0.04, the corresponding maximal p-value is 0.9999999999999999\n"
     ]
    }
   ],
   "source": [
    "\n",
    "print(max_p(d.T, b.T, z.T))\n",
    "\n",
    "betahat, pval, ci = max_p(d.T, b.T, z.T) # estimate beta\n",
    "print(f'The estimated coefficient is {betahat}, the corresponding maximal p-value is {pval}')\n"
   ]
  },
  {
   "cell_type": "code",
   "execution_count": 13,
   "id": "6e6b5392",
   "metadata": {},
   "outputs": [],
   "source": [
    "def two_sls(y, X, Z):\n",
    "    '''\n",
    "    Estimate 2 stage least squares given data on y, X and Z.\n",
    "    \n",
    "    Inputs:\n",
    "    -------\n",
    "    y (Nx1 np.array)\n",
    "    X (Nx1 np.array)\n",
    "    Z (Nxl np.array)\n",
    "    \n",
    "    Returns\n",
    "    -------\n",
    "    beta_hat, vb_beta_hat\n",
    "    '''\n",
    "    y = np.array(y)\n",
    "    X = np.array(X)\n",
    "    Z = np.array(Z)\n",
    "    ZX = np.transpose(Z)@X\n",
    "    ZX_inv = np.linalg.pinv(ZX)#using pseuodo-inverse\n",
    "    Zy = np.transpose(Z)@y\n",
    "    ZZ = np.transpose(Z)@Z\n",
    "    ZZ_inv = np.linalg.pinv(ZZ)\n",
    "    #Beta_IV2SLS = ZX_inv@ZY\n",
    "    beta_hat = np.linalg.pinv(np.transpose(ZX)@ZZ_inv@ZX)@(np.transpose(ZX)@ZZ_inv@Zy)\n",
    "    e = y - X@beta_hat\n",
    "    SSR = np.transpose(e)@e\n",
    "    N = X.shape[0]\n",
    "    vcv = (SSR/N)*np.linalg.pinv(np.transpose(ZX)@ZZ_inv@ZX)\n",
    "    K = X.shape[1]\n",
    "    se_beta_hat = np.zeros(K)\n",
    "    for i in range(K):\n",
    "          se_beta_hat[i] = np.sqrt(vcv[i,i])\n",
    "            \n",
    "    return beta_hat, se_beta_hat\n",
    "\n"
   ]
  },
  {
   "cell_type": "code",
   "execution_count": 23,
   "id": "7b9b7b1e",
   "metadata": {},
   "outputs": [
    {
     "name": "stdout",
     "output_type": "stream",
     "text": [
      "The estimated coefficient from 2SLS is 0.09005590292576926, and the confidence interval is (-0.014643322995797209, 0.19475512884733573).\n",
      "The estimated coefficient is 0.040000000000000924, the corresponding maximal p-value is 0.9999999999999999, and confidence interval is [8.881784197001252e-16, 0.130000000000001]\n"
     ]
    }
   ],
   "source": [
    "b_2sls, se_2sls = two_sls(d.T, b.T, z.T)\n",
    "print(f\"The estimated coefficient from 2SLS is {b_2sls[0][0]}, and the confidence interval is {b_2sls[0][0] - 1.96*se_2sls[0], b_2sls[0][0] + 1.96*se_2sls[0]}.\")\n",
    "\n",
    "betahat, pval, ci = max_p(d.T, b.T, z.T) # estimate beta\n",
    "print(f'The estimated coefficient is {betahat}, the corresponding maximal p-value is {pval}, and confidence interval is {ci}')\n"
   ]
  },
  {
   "cell_type": "markdown",
   "id": "db248dee",
   "metadata": {},
   "source": [
    "The confidence interval for the constructed coefficient is tighter, which could be better for the confidence in the interpretation of the regression as a whole."
   ]
  },
  {
   "cell_type": "code",
   "execution_count": null,
   "id": "96742221",
   "metadata": {},
   "outputs": [],
   "source": []
  }
 ],
 "metadata": {
  "kernelspec": {
   "display_name": "Python 3",
   "language": "python",
   "name": "python3"
  },
  "language_info": {
   "codemirror_mode": {
    "name": "ipython",
    "version": 3
   },
   "file_extension": ".py",
   "mimetype": "text/x-python",
   "name": "python",
   "nbconvert_exporter": "python",
   "pygments_lexer": "ipython3",
   "version": "3.8.8"
  }
 },
 "nbformat": 4,
 "nbformat_minor": 5
}
