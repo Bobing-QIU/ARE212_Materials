{
 "cells": [
  {
   "cell_type": "markdown",
   "id": "4440438c",
   "metadata": {},
   "source": [
    "# Q5\n",
    "We first define the data generating process for the linear IV model. "
   ]
  },
  {
   "cell_type": "code",
   "execution_count": 1,
   "id": "4451fc0e",
   "metadata": {},
   "outputs": [],
   "source": [
    "import numpy as np \n",
    "import pandas as pd \n",
    "from scipy.stats import distributions as iid\n",
    "import statsmodels.api as sm\n",
    "from matplotlib import pyplot as plt \n",
    "\n",
    "def dgp(N, beta, pi): \n",
    "    '''\n",
    "    Data generating process \n",
    "    \n",
    "    Input: \n",
    "    N    : # of obs \n",
    "    beta : true coefficient of x on y, scalar \n",
    "    pi   : true coefficient of Z on x, lx1 vector \n",
    "    \n",
    "    Output: y, x, Z (Nxl)\n",
    "    \n",
    "    Assume that the residuals in both stages follow standard normal distribution and are independent. \n",
    "    '''\n",
    "    l = len(pi) \n",
    "    u = iid.norm().rvs(N)\n",
    "    v = iid.norm().rvs(N)\n",
    "    Z = np.random.normal(size=N*l).reshape(N, l) \n",
    "    x = Z@pi + v \n",
    "    y = beta*x + u \n",
    "    return (y, x, Z)"
   ]
  },
  {
   "cell_type": "markdown",
   "id": "ed4b2a76",
   "metadata": {},
   "source": [
    "## (1)\n",
    "Here we write a function which takes as arguments $(y, x, Z, \\beta_0)$ and returns the $p$-value associated with the hypothesis that each of the $l$ elements of $\\hat \\gamma$ is zero (with an F-test). "
   ]
  },
  {
   "cell_type": "code",
   "execution_count": 2,
   "id": "2fdde63c",
   "metadata": {},
   "outputs": [],
   "source": [
    "def p_val(y, x, Z, beta0): \n",
    "    '''\n",
    "    Compute p-value from an F test on \\gamma = 0 \n",
    "    \n",
    "    Input: y, x, Z, beta0 (guess of true beta)\n",
    "    \n",
    "    Ouput: p-value \n",
    "    '''\n",
    "    yh = y - beta0*x # transform the LHS var\n",
    "    lm = sm.OLS(yh, Z).fit() # fit the linear model \n",
    "    return lm.f_pvalue # return p value from F test"
   ]
  },
  {
   "cell_type": "markdown",
   "id": "007a9ceb",
   "metadata": {},
   "source": [
    "## (2)\n",
    "To estimate $\\beta$, we start by trying possible values within $[0, 2]$ range (since we know the true $\\beta = 1$). The following function returns the estimated $\\beta_0$ and corresponding maximal p-value. "
   ]
  },
  {
   "cell_type": "code",
   "execution_count": 48,
   "id": "4c189551",
   "metadata": {},
   "outputs": [],
   "source": [
    "def max_p(y, x, Z):\n",
    "    '''\n",
    "    Obtain the estimate beta0 that max p-value \n",
    "    \n",
    "    Input: y, x, Z \n",
    "    \n",
    "    Output: beta0, max p-value \n",
    "    '''\n",
    "    beta_lst = list(np.arange(0, 2, 0.001)) # Try beta0 in this range \n",
    "    p_lst = [] \n",
    "    \n",
    "    for i in range(len(beta_lst)): # get p-value for each corresponding beta0\n",
    "        p_lst.append(p_val(y, x, Z, beta_lst[i])) \n",
    "    p_dict = dict(zip(beta_lst, p_lst))\n",
    "    \n",
    "    max_beta = max(p_dict, key=p_dict.get)\n",
    "    max_pval = p_dict[max_beta] # maxinmal pval and beta \n",
    "    \n",
    "    ci_beta = list(dict(filter(lambda item: item[1]>=0.05, p_dict.items())).keys()) \n",
    "    ci = [ci_beta[0], ci_beta[-1]] # confidence interval \n",
    "    \n",
    "    return max_beta, max_pval, ci"
   ]
  },
  {
   "cell_type": "markdown",
   "id": "cf987958",
   "metadata": {},
   "source": [
    "Taking $\\pi=1$, we can estimate $\\beta$ as follows. "
   ]
  },
  {
   "cell_type": "code",
   "execution_count": 54,
   "id": "ade98175",
   "metadata": {},
   "outputs": [
    {
     "name": "stdout",
     "output_type": "stream",
     "text": [
      "The estimated coefficient is 1.033, the corresponding maximal p-value is 0.9931414596456031\n"
     ]
    }
   ],
   "source": [
    "# True parameters \n",
    "N, beta, pi = 1000, 1, [1]\n",
    "\n",
    "y, x, Z = dgp(N, beta, pi) # DGP, no set seed so each time the results will be a bit different \n",
    "\n",
    "b, pval, ci = max_p(y, x, Z) # estimate beta\n",
    "print(f'The estimated coefficient is {b}, the corresponding maximal p-value is {pval}')"
   ]
  },
  {
   "cell_type": "markdown",
   "id": "73aa9284",
   "metadata": {},
   "source": [
    "To assess the bias and precision of this estimator, we draw 1,000 random samples and plot the distribution of estiamtes. "
   ]
  },
  {
   "cell_type": "code",
   "execution_count": 8,
   "id": "badbee14",
   "metadata": {},
   "outputs": [
    {
     "data": {
      "text/plain": [
       "<function matplotlib.pyplot.show(close=None, block=None)>"
      ]
     },
     "execution_count": 8,
     "metadata": {},
     "output_type": "execute_result"
    },
    {
     "data": {
      "image/png": "[encoded data removed]",
      "text/plain": [
       "<Figure size 640x480 with 1 Axes>"
      ]
     },
     "metadata": {},
     "output_type": "display_data"
    }
   ],
   "source": [
    "####### WARNING: This chunk will take forever to run \n",
    "it = 0 \n",
    "b_lst = []\n",
    "while it < 10: \n",
    "    y, x, Z = dgp(N, beta, pi)\n",
    "    b_lst.append(max_p(y, x, Z)[0])\n",
    "    it = it + 1\n",
    "\n",
    "plt.hist(pd.DataFrame(b_lst), )\n",
    "plt.title(r'Histogram of estimated $\\beta_0$')\n",
    "plt.xlabel(r'$\\beta_0$')\n",
    "plt.ylabel('Frequency')\n",
    "plt.show"
   ]
  },
  {
   "cell_type": "markdown",
   "id": "9e7007c5",
   "metadata": {},
   "source": [
    "As illustrated in the figure above, the estimator seems to be quite unbiased in expectation. Bias or deviation in a specific sample is also small, so overall it is quite precise. "
   ]
  },
  {
   "cell_type": "markdown",
   "id": "25e8d68a",
   "metadata": {},
   "source": [
    "## (3)\n",
    "The null hypothesis of our F test is that $\\hat \\gamma = 0$, which corresponds to $\\beta = \\beta_0$. Intuitively, to construct a 95% confidence interval on $\\beta_0$, we need the p-value to be greater than or equal to 0.05 so that we cannot reject the null. The construction of confidence interval is incorporated into the 'max_p' function above. Below is another estimate from a specific sample. "
   ]
  },
  {
   "cell_type": "code",
   "execution_count": 55,
   "id": "f3720ef9",
   "metadata": {},
   "outputs": [
    {
     "name": "stdout",
     "output_type": "stream",
     "text": [
      "The estimated coefficient is 1.0030000000000001, the corresponding maximal p-value is 0.9884396909953668, and confidence interval is [0.937, 1.068]\n"
     ]
    }
   ],
   "source": [
    "# True parameters \n",
    "N, beta, pi = 1000, 1, [1]\n",
    "\n",
    "y, x, Z = dgp(N, beta, pi) # DGP  \n",
    "\n",
    "b, pval, ci = max_p(y, x, Z) # estimate beta\n",
    "print(f'The estimated coefficient is {b}, the corresponding maximal p-value is {pval}, and confidence interval is {ci}')"
   ]
  },
  {
   "cell_type": "markdown",
   "id": "e48a6e49",
   "metadata": {},
   "source": [
    "The 95% confidence interval from 2SLS can be obtained as follows. As a comparison... "
   ]
  },
  {
   "cell_type": "code",
   "execution_count": 56,
   "id": "119f2b29",
   "metadata": {},
   "outputs": [],
   "source": [
    "# NB: need code from Q4 to get 2SLS estimate "
   ]
  },
  {
   "cell_type": "markdown",
   "id": "660b8c1b",
   "metadata": {},
   "source": [
    "## (4)\n",
    "As $\\pi$ goes from 1 toward zero, the estimate becomes biased and much less precise. "
   ]
  },
  {
   "cell_type": "code",
   "execution_count": 57,
   "id": "0e6f7003",
   "metadata": {},
   "outputs": [
    {
     "name": "stdout",
     "output_type": "stream",
     "text": [
      "The estimated coefficient is 0.764, the corresponding maximal p-value is 0.9995219017241671, and confidence interval is [0.0, 1.6640000000000001]\n"
     ]
    }
   ],
   "source": [
    "# True parameters \n",
    "N, beta, pi = 1000, 1, [0]\n",
    "\n",
    "y, x, Z = dgp(N, beta, pi) # DGP  \n",
    "\n",
    "b, pval, ci = max_p(y, x, Z) # estimate beta\n",
    "print(f'The estimated coefficient is {b}, the corresponding maximal p-value is {pval}, and confidence interval is {ci}')"
   ]
  },
  {
   "cell_type": "markdown",
   "id": "34187f7e",
   "metadata": {},
   "source": [
    "## (5) \n",
    "How does the coverage of your test change as $l$ grows large? Compare with 2SLS. "
   ]
  },
  {
   "cell_type": "code",
   "execution_count": null,
   "id": "1c9244c3",
   "metadata": {},
   "outputs": [],
   "source": []
  }
 ],
 "metadata": {
  "kernelspec": {
   "display_name": "Python 3 (ipykernel)",
   "language": "python",
   "name": "python3"
  },
  "language_info": {
   "codemirror_mode": {
    "name": "ipython",
    "version": 3
   },
   "file_extension": ".py",
   "mimetype": "text/x-python",
   "name": "python",
   "nbconvert_exporter": "python",
   "pygments_lexer": "ipython3",
   "version": "3.10.9"
  }
 },
 "nbformat": 4,
 "nbformat_minor": 5
}
