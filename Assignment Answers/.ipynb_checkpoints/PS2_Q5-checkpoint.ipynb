{
 "cells": [
  {
   "cell_type": "markdown",
   "id": "4440438c",
   "metadata": {},
   "source": [
    "# Q5\n",
    "We first define the data generating process for the linear IV model. "
   ]
  },
  {
   "cell_type": "code",
   "execution_count": 1,
   "id": "4451fc0e",
   "metadata": {},
   "outputs": [],
   "source": [
    "import numpy as np \n",
    "import pandas as pd \n",
    "from scipy.stats import distributions as iid\n",
    "import statsmodels.api as sm\n",
    "from matplotlib import pyplot as plt \n",
    "from scipy.optimize import minimize_scalar\n",
    "\n",
    "def dgp(N, beta, pi): \n",
    "    '''\n",
    "    Data generating process \n",
    "    \n",
    "    Input: \n",
    "    N    : # of obs \n",
    "    beta : true coefficient of x on y, scalar \n",
    "    pi   : true coefficient of Z on x, lx1 vector \n",
    "    \n",
    "    Output: y, x, Z (Nxl)\n",
    "    \n",
    "    Assume that the residuals in both stages follow standard normal distribution and are independent. \n",
    "    '''\n",
    "    l = len(pi) \n",
    "    u = iid.norm().rvs(size=(N, 1))\n",
    "    v = iid.norm().rvs(size=(N, 1))\n",
    "    Z = np.random.normal(size=N*l).reshape(N, l) \n",
    "    x = Z@pi + u\n",
    "    y = beta*x + v\n",
    "    return (y, x, Z)"
   ]
  },
  {
   "cell_type": "markdown",
   "id": "ed4b2a76",
   "metadata": {},
   "source": [
    "## (1)\n",
    "Here we write a function which takes as arguments $(y, x, Z, \\beta_0)$ and returns the $p$-value associated with the hypothesis that each of the $l$ elements of $\\hat \\gamma$ is zero (with an F-test). "
   ]
  },
  {
   "cell_type": "code",
   "execution_count": 2,
   "id": "2fdde63c",
   "metadata": {},
   "outputs": [],
   "source": [
    "def p_val(y, x, Z, beta0): \n",
    "    '''\n",
    "    Compute p-value from an F test on \\gamma = 0 \n",
    "    \n",
    "    Input: y, x, Z, beta0 (guess of true beta)\n",
    "    \n",
    "    Ouput: p-value \n",
    "    '''\n",
    "    yh = y - beta0*x # transform the LHS var\n",
    "    lm = sm.OLS(yh, Z).fit() # fit the linear model \n",
    "    return lm.f_pvalue # return p value from F test"
   ]
  },
  {
   "cell_type": "markdown",
   "id": "007a9ceb",
   "metadata": {},
   "source": [
    "## (2)\n",
    "To estimate $\\beta$, we start by trying possible values within $[0, 2]$ range (since we know the true $\\beta = 1$). The following function returns the estimated $\\beta_0$ and corresponding maximal p-value. "
   ]
  },
  {
   "cell_type": "code",
   "execution_count": 3,
   "id": "4c189551",
   "metadata": {},
   "outputs": [],
   "source": [
    "def max_p(y, x, Z):\n",
    "    '''\n",
    "    Obtain the estimate beta0 that max p-value \n",
    "    \n",
    "    Input: y, x, Z \n",
    "    \n",
    "    Output: beta0, max p-value \n",
    "    '''\n",
    "    beta_lst = list(np.arange(0, 2, 0.01)) # Try beta0 in this range \n",
    "    p_lst = [] \n",
    "    \n",
    "    for i in range(len(beta_lst)): # get p-value for each corresponding beta0\n",
    "        p_lst.append(p_val(y, x, Z, beta_lst[i])) \n",
    "    p_dict = dict(zip(beta_lst, p_lst))\n",
    "    \n",
    "    max_beta = max(p_dict, key=p_dict.get)\n",
    "    max_pval = p_dict[max_beta] # maxinmal pval and beta \n",
    "    \n",
    "    ci_beta = list(dict(filter(lambda item: item[1]>=0.05, p_dict.items())).keys()) \n",
    "    ci = [ci_beta[0], ci_beta[-1]] # confidence interval \n",
    "    \n",
    "    return max_beta, max_pval, ci"
   ]
  },
  {
   "cell_type": "markdown",
   "id": "cf987958",
   "metadata": {},
   "source": [
    "Taking $\\pi=1$, we can estimate $\\beta$ as follows. "
   ]
  },
  {
   "cell_type": "code",
   "execution_count": 4,
   "id": "ade98175",
   "metadata": {},
   "outputs": [
    {
     "name": "stdout",
     "output_type": "stream",
     "text": [
      "The estimated coefficient is 1.05, the corresponding maximal p-value is 0.9413000574875798\n"
     ]
    }
   ],
   "source": [
    "# True parameters \n",
    "N, beta, pi = 1000, 1, np.c_[1]\n",
    "\n",
    "y, x, Z = dgp(N, beta, pi) # DGP, no set seed so each time the results will be a bit different \n",
    "\n",
    "b, pval, ci = max_p(y, x, Z) # estimate beta\n",
    "print(f'The estimated coefficient is {b}, the corresponding maximal p-value is {pval}')"
   ]
  },
  {
   "cell_type": "markdown",
   "id": "73aa9284",
   "metadata": {},
   "source": [
    "To assess the bias and precision of this estimator, we draw 1,000 random samples and plot the distribution of estiamtes. "
   ]
  },
  {
   "cell_type": "code",
   "execution_count": 5,
   "id": "badbee14",
   "metadata": {},
   "outputs": [
    {
     "data": {
      "text/plain": [
       "<function matplotlib.pyplot.show(close=None, block=None)>"
      ]
     },
     "execution_count": 5,
     "metadata": {},
     "output_type": "execute_result"
    },
    {
     "data": {
      "image/png": "[encoded data removed]",
      "text/plain": [
       "<Figure size 640x480 with 1 Axes>"
      ]
     },
     "metadata": {},
     "output_type": "display_data"
    }
   ],
   "source": [
    "####### WARNING: This chunk will take forever to run \n",
    "it = 0 \n",
    "b_lst = []\n",
    "while it < 100: \n",
    "    y, x, Z = dgp(N, beta, pi)\n",
    "    b_lst.append(max_p(y, x, Z)[0])\n",
    "    it = it + 1\n",
    "\n",
    "plt.hist(pd.DataFrame(b_lst), )\n",
    "plt.title(r'Histogram of estimated $\\beta_0$')\n",
    "plt.xlabel(r'$\\beta_0$')\n",
    "plt.ylabel('Frequency')\n",
    "plt.show"
   ]
  },
  {
   "cell_type": "markdown",
   "id": "9e7007c5",
   "metadata": {},
   "source": [
    "As illustrated in the figure above, the estimator seems to be quite unbiased in expectation. Bias or deviation in a specific sample is also small, so overall it is quite precise. "
   ]
  },
  {
   "cell_type": "markdown",
   "id": "25e8d68a",
   "metadata": {},
   "source": [
    "## (3)\n",
    "The null hypothesis of our F test is that $\\hat \\gamma = 0$, which corresponds to $\\beta = \\beta_0$. Intuitively, to construct a 95% confidence interval on $\\beta_0$, we need the p-value to be greater than or equal to 0.05 so that we cannot reject the null. The construction of confidence interval is incorporated into the 'max_p' function above. Below is another estimate from a specific sample. "
   ]
  },
  {
   "cell_type": "code",
   "execution_count": 6,
   "id": "f3720ef9",
   "metadata": {},
   "outputs": [
    {
     "name": "stdout",
     "output_type": "stream",
     "text": [
      "The estimated coefficient is 1.02, the corresponding maximal p-value is 0.633217442158678, and confidence interval is [0.98, 1.07]\n"
     ]
    }
   ],
   "source": [
    "# True parameters \n",
    "N, beta, pi = 1000, 1, np.c_[[1, 1]]\n",
    "\n",
    "y, x, Z = dgp(N, beta, pi) # DGP  \n",
    "\n",
    "b, pval, ci = max_p(y, x, Z) # estimate beta\n",
    "print(f'The estimated coefficient is {b}, the corresponding maximal p-value is {pval}, and confidence interval is {ci}')"
   ]
  },
  {
   "cell_type": "markdown",
   "id": "e48a6e49",
   "metadata": {},
   "source": [
    "The 95% confidence interval from 2SLS can be obtained as follows. As a comparison, the two confidence intervals are very similar. "
   ]
  },
  {
   "cell_type": "code",
   "execution_count": 7,
   "id": "119f2b29",
   "metadata": {},
   "outputs": [],
   "source": [
    "def two_sls(y, X, Z):\n",
    "    '''\n",
    "    Estimate 2 stage least squares given data on y, X and Z.\n",
    "    \n",
    "    Inputs:\n",
    "    -------\n",
    "    y (Nx1 np.array)\n",
    "    X (Nx1 np.array)\n",
    "    Z (Nxl np.array)\n",
    "    \n",
    "    Returns\n",
    "    -------\n",
    "    beta_hat, vb_beta_hat\n",
    "    '''\n",
    "    y = np.array(y)\n",
    "    X = np.array(X)\n",
    "    Z = np.array(Z)\n",
    "    ZX = np.transpose(Z)@X\n",
    "    ZX_inv = np.linalg.pinv(ZX)#using pseuodo-inverse\n",
    "    Zy = np.transpose(Z)@y\n",
    "    ZZ = np.transpose(Z)@Z\n",
    "    ZZ_inv = np.linalg.pinv(ZZ)\n",
    "    #Beta_IV2SLS = ZX_inv@ZY\n",
    "    beta_hat = np.linalg.pinv(np.transpose(ZX)@ZZ_inv@ZX)@(np.transpose(ZX)@ZZ_inv@Zy)\n",
    "    e = y - X@beta_hat\n",
    "    SSR = np.transpose(e)@e\n",
    "    N = X.shape[0]\n",
    "    vcv = (SSR/N)*np.linalg.pinv(np.transpose(ZX)@ZZ_inv@ZX)\n",
    "    K = X.shape[1]\n",
    "    se_beta_hat = np.zeros(K)\n",
    "    for i in range(K):\n",
    "          se_beta_hat[i] = np.sqrt(vcv[i,i])\n",
    "            \n",
    "    return beta_hat, se_beta_hat"
   ]
  },
  {
   "cell_type": "code",
   "execution_count": 8,
   "id": "544f756a",
   "metadata": {},
   "outputs": [
    {
     "name": "stdout",
     "output_type": "stream",
     "text": [
      "The estimated coefficient from 2SLS is 1.0239853361130946, and the confidence interval is (0.9810997770059724, 1.0668708952202168).\n"
     ]
    }
   ],
   "source": [
    "b_2sls, se_2sls = two_sls(y, x, Z)\n",
    "print(f\"The estimated coefficient from 2SLS is {b_2sls[0][0]}, and the confidence interval is {b_2sls[0][0] - 1.96*se_2sls[0], b_2sls[0][0] + 1.96*se_2sls[0]}.\")"
   ]
  },
  {
   "cell_type": "markdown",
   "id": "660b8c1b",
   "metadata": {},
   "source": [
    "## (4)\n",
    "As $\\pi$ goes from 1 toward zero, the estimate is more likely to be biased and much less precise in that it has larger standard errors. "
   ]
  },
  {
   "cell_type": "code",
   "execution_count": 9,
   "id": "0e6f7003",
   "metadata": {},
   "outputs": [
    {
     "name": "stdout",
     "output_type": "stream",
     "text": [
      "\\pi = [1.]: The estimated coefficient is 0.99, the corresponding maximal p-value is 0.9096034391726764, and confidence interval is [0.9400000000000001, 1.05] \t \n",
      "\\pi = [0.9]: The estimated coefficient is 0.9400000000000001, the corresponding maximal p-value is 0.924576592153333, and confidence interval is [0.87, 1.0] \t \n",
      "\\pi = [0.8]: The estimated coefficient is 0.98, the corresponding maximal p-value is 0.9034716851367927, and confidence interval is [0.91, 1.05] \t \n",
      "\\pi = [0.7]: The estimated coefficient is 0.96, the corresponding maximal p-value is 0.9395854815398478, and confidence interval is [0.87, 1.06] \t \n",
      "\\pi = [0.6]: The estimated coefficient is 0.99, the corresponding maximal p-value is 0.9733563943987977, and confidence interval is [0.89, 1.08] \t \n",
      "\\pi = [0.5]: The estimated coefficient is 1.01, the corresponding maximal p-value is 0.9426929417297774, and confidence interval is [0.88, 1.1300000000000001] \t \n",
      "\\pi = [0.4]: The estimated coefficient is 0.9, the corresponding maximal p-value is 0.9678693506073962, and confidence interval is [0.76, 1.05] \t \n",
      "\\pi = [0.3]: The estimated coefficient is 1.1500000000000001, the corresponding maximal p-value is 0.9639320309917532, and confidence interval is [0.9400000000000001, 1.37] \t \n",
      "\\pi = [0.2]: The estimated coefficient is 0.72, the corresponding maximal p-value is 0.9931297831491452, and confidence interval is [0.38, 1.01] \t \n",
      "\\pi = [0.1]: The estimated coefficient is 1.47, the corresponding maximal p-value is 0.9976155588253705, and confidence interval is [0.8200000000000001, 1.99] \t \n",
      "\\pi = [2.22044605e-16]: The estimated coefficient is 0.98, the corresponding maximal p-value is 0.9975995324423994, and confidence interval is [0.0, 1.99] \t \n"
     ]
    }
   ],
   "source": [
    "# True parameters \n",
    "for p in np.arange(1, -0.1, -0.1):\n",
    "    p = np.c_[p]\n",
    "    N, beta, pi = 1000, 1, p\n",
    "\n",
    "    y, x, Z = dgp(N, beta, pi) # DGP  \n",
    "\n",
    "    b, pval, ci = max_p(y, x, Z) # estimate beta\n",
    "    print(f'\\pi = {p[0]}: The estimated coefficient is {b}, the corresponding maximal p-value is {pval}, and confidence interval is {ci} \\t ')"
   ]
  },
  {
   "cell_type": "markdown",
   "id": "34187f7e",
   "metadata": {},
   "source": [
    "## (5) \n",
    "The coverage of this test seems to be quite consistent even when $l$ increases from 1 to 10. "
   ]
  },
  {
   "cell_type": "markdown",
   "id": "e831a6f3",
   "metadata": {},
   "source": [
    "<div class=\"alert alert-block alert-info\">\n",
    "<b>Tip:</b>  \n",
    "Need to compare with 2SLS, but I suppose this method is more robust??\n",
    "</div>"
   ]
  },
  {
   "cell_type": "code",
   "execution_count": 10,
   "id": "1c9244c3",
   "metadata": {},
   "outputs": [],
   "source": [
    "seq = [(1/2)**(n) for n in range(100)]"
   ]
  },
  {
   "cell_type": "code",
   "execution_count": 14,
   "id": "b86bc19a",
   "metadata": {},
   "outputs": [
    {
     "name": "stdout",
     "output_type": "stream",
     "text": [
      "\\pi = [1.]: The estimated coefficient is 1.01, the corresponding maximal p-value is 0.8934165075014877, and confidence interval is [0.96, 1.07] \t \n",
      "\\pi = [1.] [0.5]: The estimated coefficient is 0.97, the corresponding maximal p-value is 0.9504302761527, and confidence interval is [0.92, 1.03] \t \n",
      "\\pi = [1.] [0.5] [0.25]: The estimated coefficient is 1.01, the corresponding maximal p-value is 0.10061777207602594, and confidence interval is [0.98, 1.04] \t \n",
      "\\pi = [1.] [0.5] [0.25] [0.125]: The estimated coefficient is 0.97, the corresponding maximal p-value is 0.1405822437496985, and confidence interval is [0.93, 1.01] \t \n",
      "\\pi = [1.] [0.5] [0.25] [0.125] [0.0625]: The estimated coefficient is 1.04, the corresponding maximal p-value is 0.6375682997964216, and confidence interval is [0.97, 1.11] \t \n",
      "\\pi = [1.] [0.5] [0.25] [0.125] [0.0625] [0.03125]: The estimated coefficient is 0.99, the corresponding maximal p-value is 0.15943761237916845, and confidence interval is [0.9500000000000001, 1.03] \t \n",
      "\\pi = [1.] [0.5] [0.25] [0.125] [0.0625] [0.03125] [0.015625]: The estimated coefficient is 0.99, the corresponding maximal p-value is 0.4769401543344659, and confidence interval is [0.91, 1.06] \t \n",
      "\\pi = [1.] [0.5] [0.25] [0.125] [0.0625] [0.03125] [0.015625] [0.0078125]: The estimated coefficient is 1.0, the corresponding maximal p-value is 0.31021054146113825, and confidence interval is [0.93, 1.06] \t \n",
      "\\pi = [1.] [0.5] [0.25] [0.125] [0.0625] [0.03125] [0.015625] [0.0078125] [0.00390625]: The estimated coefficient is 1.0, the corresponding maximal p-value is 0.15624731485211193, and confidence interval is [0.9500000000000001, 1.05] \t \n",
      "\\pi = [1.] [0.5] [0.25] [0.125] [0.0625] [0.03125] [0.015625] [0.0078125] [0.00390625] [0.00195312]: The estimated coefficient is 1.03, the corresponding maximal p-value is 0.23817330937489836, and confidence interval is [0.97, 1.09] \t \n"
     ]
    }
   ],
   "source": [
    "for l in range(1, 11): \n",
    "    p = np.c_[seq[0:l]]\n",
    "    N, beta, pi = 1000, 1, p\n",
    "    y, x, Z = dgp(N, beta, pi) # DGP  \n",
    "\n",
    "    b, pval, ci = max_p(y, x, Z) # estimate beta\n",
    "    p_string = \" \".join(str(e) for e in p)\n",
    "    print(f'\\pi = {p_string}: The estimated coefficient is {b}, the corresponding maximal p-value is {pval}, and confidence interval is {ci} \\t ')"
   ]
  },
  {
   "cell_type": "code",
   "execution_count": null,
   "id": "f8c955ba",
   "metadata": {},
   "outputs": [],
   "source": []
  }
 ],
 "metadata": {
  "kernelspec": {
   "display_name": "Python 3 (ipykernel)",
   "language": "python",
   "name": "python3"
  },
  "language_info": {
   "codemirror_mode": {
    "name": "ipython",
    "version": 3
   },
   "file_extension": ".py",
   "mimetype": "text/x-python",
   "name": "python",
   "nbconvert_exporter": "python",
   "pygments_lexer": "ipython3",
   "version": "3.10.9"
  }
 },
 "nbformat": 4,
 "nbformat_minor": 5
}
