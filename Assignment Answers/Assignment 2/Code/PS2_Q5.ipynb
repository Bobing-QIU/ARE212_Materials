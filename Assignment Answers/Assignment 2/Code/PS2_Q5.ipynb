{
 "cells": [
  {
   "cell_type": "markdown",
   "id": "4440438c",
   "metadata": {},
   "source": [
    "# Q5\n",
    "We first define the data generating process for the linear IV model. "
   ]
  },
  {
   "cell_type": "code",
   "execution_count": 1,
   "id": "4451fc0e",
   "metadata": {},
   "outputs": [],
   "source": [
    "import numpy as np \n",
    "import pandas as pd \n",
    "from scipy.stats import distributions as iid\n",
    "import statsmodels.api as sm\n",
    "from matplotlib import pyplot as plt \n",
    "from scipy.optimize import minimize_scalar\n",
    "\n",
    "def dgp(N, beta, pi): \n",
    "    '''\n",
    "    Data generating process \n",
    "    \n",
    "    Input: \n",
    "    N    : # of obs \n",
    "    beta : true coefficient of x on y, scalar \n",
    "    pi   : true coefficient of Z on x, lx1 vector \n",
    "    \n",
    "    Output: y, x, Z (Nxl)\n",
    "    \n",
    "    Assume that the residuals in both stages follow standard normal distribution and are independent. \n",
    "    '''\n",
    "    l = len(pi) \n",
    "    Z = np.random.normal(size=N*l).reshape(N, l) \n",
    "    x = Z@pi + iid.norm().rvs(size=(N, 1))\n",
    "    y = beta*x + iid.norm().rvs(size=(N, 1))\n",
    "    return (y, x, Z)"
   ]
  },
  {
   "cell_type": "markdown",
   "id": "ed4b2a76",
   "metadata": {},
   "source": [
    "## (1)\n",
    "Here we write a function which takes as arguments $(y, x, Z, \\beta_0)$ and returns the $p$-value associated with the hypothesis that each of the $l$ elements of $\\hat \\gamma$ is zero (with an F-test). "
   ]
  },
  {
   "cell_type": "code",
   "execution_count": 2,
   "id": "2fdde63c",
   "metadata": {},
   "outputs": [],
   "source": [
    "def p_val(y, x, Z, beta0): \n",
    "    '''\n",
    "    Compute p-value from an F test on \\gamma = 0 \n",
    "    \n",
    "    Input: y, x, Z, beta0 (guess of true beta)\n",
    "    \n",
    "    Ouput: p-value \n",
    "    '''\n",
    "    yh = y - beta0*x # transform the LHS var\n",
    "    lm = sm.OLS(yh, Z).fit() # fit the linear model \n",
    "    return lm.f_pvalue # return p value from F test"
   ]
  },
  {
   "cell_type": "markdown",
   "id": "007a9ceb",
   "metadata": {},
   "source": [
    "## (2)\n",
    "To estimate $\\beta$, we start by trying possible values within $[0, 2]$ range (since we know the true $\\beta = 1$). The following function returns the estimated $\\beta_0$ and corresponding maximal p-value. "
   ]
  },
  {
   "cell_type": "code",
   "execution_count": 3,
   "id": "4c189551",
   "metadata": {},
   "outputs": [],
   "source": [
    "def max_p(y, x, Z):\n",
    "    '''\n",
    "    Obtain the estimate beta0 that max p-value \n",
    "    \n",
    "    Input: y, x, Z \n",
    "    \n",
    "    Output: beta0, max p-value, CI (this is not accurate as I am only considering possible beta values in [0, 2])\n",
    "    '''\n",
    "    beta_lst = list(np.arange(0, 2, 0.01)) # Try beta0 in this range \n",
    "    p_lst = [] \n",
    "    \n",
    "    for i in range(len(beta_lst)): # get p-value for each corresponding beta0\n",
    "        p_lst.append(p_val(y, x, Z, beta_lst[i])) \n",
    "    p_dict = dict(zip(beta_lst, p_lst))\n",
    "    \n",
    "    max_beta = max(p_dict, key=p_dict.get)\n",
    "    max_pval = p_dict[max_beta] # maxinmal pval and beta \n",
    "    \n",
    "    ci_beta = list(dict(filter(lambda item: item[1]>=0.05, p_dict.items())).keys()) \n",
    "    ci = [ci_beta[0], ci_beta[-1]] # confidence interval \n",
    "    \n",
    "    return max_beta, max_pval, ci"
   ]
  },
  {
   "cell_type": "code",
   "execution_count": 4,
   "id": "59d85bac",
   "metadata": {},
   "outputs": [],
   "source": [
    "# def max_p(y, x, Z):\n",
    "#     '''\n",
    "#     Obtain the estimate beta0 that max p-value \n",
    "    \n",
    "#     Input: y, x, Z \n",
    "    \n",
    "#     Output: beta0, max p-value \n",
    "#     '''\n",
    "#     m = minimize_scalar(lambda beta: -p_val(y, x, Z, beta))\n",
    "#     return m.x, -m.fun"
   ]
  },
  {
   "cell_type": "markdown",
   "id": "cf987958",
   "metadata": {},
   "source": [
    "Taking $\\pi=1$, we can estimate $\\beta$ as follows. "
   ]
  },
  {
   "cell_type": "code",
   "execution_count": 5,
   "id": "ade98175",
   "metadata": {},
   "outputs": [
    {
     "name": "stdout",
     "output_type": "stream",
     "text": [
      "The estimated coefficient is 0.96, the corresponding maximal p-value is 0.9285338348710878\n"
     ]
    }
   ],
   "source": [
    "# True parameters \n",
    "N, beta, pi = 1000, 1, np.c_[1]\n",
    "\n",
    "y, x, Z = dgp(N, beta, pi) # DGP, no set seed so each time the results will be a bit different \n",
    "\n",
    "b, pval, ci = max_p(y, x, Z) # estimate beta\n",
    "print(f'The estimated coefficient is {b}, the corresponding maximal p-value is {pval}')"
   ]
  },
  {
   "cell_type": "markdown",
   "id": "73aa9284",
   "metadata": {},
   "source": [
    "To assess the bias and precision of this estimator, we draw 1,000 random samples and plot the distribution of estiamtes. "
   ]
  },
  {
   "cell_type": "code",
   "execution_count": 7,
   "id": "badbee14",
   "metadata": {},
   "outputs": [
    {
     "data": {
      "text/plain": [
       "<function matplotlib.pyplot.show(close=None, block=None)>"
      ]
     },
     "execution_count": 7,
     "metadata": {},
     "output_type": "execute_result"
    },
    {
     "data": {
      "image/png": "[encoded data removed]",
      "text/plain": [
       "<Figure size 640x480 with 1 Axes>"
      ]
     },
     "metadata": {},
     "output_type": "display_data"
    }
   ],
   "source": [
    "it = 0 \n",
    "b_lst = []\n",
    "while it < 100: \n",
    "    y, x, Z = dgp(N, beta, pi)\n",
    "    b_lst.append(max_p(y, x, Z)[0])\n",
    "    it = it + 1\n",
    "\n",
    "plt.hist(pd.DataFrame(b_lst), )\n",
    "plt.title(r'Histogram of estimated $\\beta_0$')\n",
    "plt.xlabel(r'$\\beta_0$')\n",
    "plt.ylabel('Frequency')\n",
    "plt.show"
   ]
  },
  {
   "cell_type": "markdown",
   "id": "9e7007c5",
   "metadata": {},
   "source": [
    "As illustrated in the figure above, the estimator seems to be unbiased in expectation. Bias or deviation in a specific sample is also small, so overall it is quite precise. "
   ]
  },
  {
   "cell_type": "markdown",
   "id": "25e8d68a",
   "metadata": {},
   "source": [
    "## (3)\n",
    "The null hypothesis of our F test is that $\\hat \\gamma = 0$, which corresponds to $\\beta = \\beta_0$. Intuitively, to construct a 95% confidence interval on $\\beta_0$, we need the p-value to be greater than or equal to 0.05 so that we cannot reject the null. The construction of confidence interval is incorporated into the 'max_p' function above. Below is another estimate from a specific sample. "
   ]
  },
  {
   "cell_type": "code",
   "execution_count": 8,
   "id": "f3720ef9",
   "metadata": {},
   "outputs": [
    {
     "name": "stdout",
     "output_type": "stream",
     "text": [
      "The estimated coefficient is 0.99, the corresponding maximal p-value is 0.8409663794827846, and confidence interval is [0.9400000000000001, 1.04]\n"
     ]
    }
   ],
   "source": [
    "# True parameters \n",
    "N, beta, pi = 1000, 1, np.c_[[1, 1]]\n",
    "\n",
    "y, x, Z = dgp(N, beta, pi) # DGP  \n",
    "\n",
    "b, pval, ci = max_p(y, x, Z) # estimate beta\n",
    "print(f'The estimated coefficient is {b}, the corresponding maximal p-value is {pval}, and confidence interval is {ci}')"
   ]
  },
  {
   "cell_type": "markdown",
   "id": "e48a6e49",
   "metadata": {},
   "source": [
    "The 95% confidence interval from 2SLS can be obtained as follows. As a comparison, the two confidence intervals are very similar. "
   ]
  },
  {
   "cell_type": "code",
   "execution_count": 9,
   "id": "119f2b29",
   "metadata": {},
   "outputs": [],
   "source": [
    "def two_sls(y, X, Z):\n",
    "    '''\n",
    "    Estimate 2 stage least squares given data on y, X and Z.\n",
    "    \n",
    "    Inputs:\n",
    "    -------\n",
    "    y (Nx1 np.array)\n",
    "    X (Nx1 np.array)\n",
    "    Z (Nxl np.array)\n",
    "    \n",
    "    Returns\n",
    "    -------\n",
    "    beta_hat, vb_beta_hat\n",
    "    '''\n",
    "    y = np.array(y)\n",
    "    X = np.array(X)\n",
    "    Z = np.array(Z)\n",
    "    ZX = np.transpose(Z)@X\n",
    "    ZX_inv = np.linalg.pinv(ZX)#using pseuodo-inverse\n",
    "    Zy = np.transpose(Z)@y\n",
    "    ZZ = np.transpose(Z)@Z\n",
    "    ZZ_inv = np.linalg.pinv(ZZ)\n",
    "    #Beta_IV2SLS = ZX_inv@ZY\n",
    "    beta_hat = np.linalg.pinv(np.transpose(ZX)@ZZ_inv@ZX)@(np.transpose(ZX)@ZZ_inv@Zy)\n",
    "    e = y - X@beta_hat\n",
    "    SSR = np.transpose(e)@e\n",
    "    N = X.shape[0]\n",
    "    vcv = (SSR/N)*np.linalg.pinv(np.transpose(ZX)@ZZ_inv@ZX)\n",
    "    K = X.shape[1]\n",
    "    se_beta_hat = np.zeros(K)\n",
    "    for i in range(K):\n",
    "          se_beta_hat[i] = np.sqrt(vcv[i,i])\n",
    "            \n",
    "    return beta_hat, se_beta_hat"
   ]
  },
  {
   "cell_type": "code",
   "execution_count": 10,
   "id": "544f756a",
   "metadata": {},
   "outputs": [
    {
     "name": "stdout",
     "output_type": "stream",
     "text": [
      "The estimated coefficient from 2SLS is 0.9907994045914384, and the confidence interval is (0.9474587370473634, 1.0341400721355134).\n"
     ]
    }
   ],
   "source": [
    "b_2sls, se_2sls = two_sls(y, x, Z)\n",
    "print(f\"The estimated coefficient from 2SLS is {b_2sls[0][0]}, and the confidence interval is {b_2sls[0][0] - 1.96*se_2sls[0], b_2sls[0][0] + 1.96*se_2sls[0]}.\")"
   ]
  },
  {
   "cell_type": "markdown",
   "id": "660b8c1b",
   "metadata": {},
   "source": [
    "## (4)\n",
    "As $\\pi$ goes from 1 toward zero, the estimate is more likely to be biased and much less precise in that it has larger standard errors. "
   ]
  },
  {
   "cell_type": "code",
   "execution_count": 11,
   "id": "0e6f7003",
   "metadata": {},
   "outputs": [
    {
     "name": "stdout",
     "output_type": "stream",
     "text": [
      "\\pi = [1.]: The estimated coefficient is 1.01, the corresponding maximal p-value is 0.9025968863165359, and confidence interval is [0.96, 1.07] \t \n",
      "\\pi = [0.9]: The estimated coefficient is 0.99, the corresponding maximal p-value is 0.9433370057266658, and confidence interval is [0.93, 1.06] \t \n",
      "\\pi = [0.8]: The estimated coefficient is 0.96, the corresponding maximal p-value is 0.9291413504244675, and confidence interval is [0.89, 1.04] \t \n",
      "\\pi = [0.7]: The estimated coefficient is 0.9400000000000001, the corresponding maximal p-value is 0.9647531286958178, and confidence interval is [0.86, 1.02] \t \n",
      "\\pi = [0.6]: The estimated coefficient is 1.04, the corresponding maximal p-value is 0.9700733740975429, and confidence interval is [0.93, 1.1400000000000001] \t \n",
      "\\pi = [0.5]: The estimated coefficient is 0.99, the corresponding maximal p-value is 0.9707522015079362, and confidence interval is [0.85, 1.12] \t \n",
      "\\pi = [0.4]: The estimated coefficient is 1.21, the corresponding maximal p-value is 0.9600139293974, and confidence interval is [1.05, 1.37] \t \n",
      "\\pi = [0.3]: The estimated coefficient is 0.81, the corresponding maximal p-value is 0.9822999737717963, and confidence interval is [0.6, 1.0] \t \n",
      "\\pi = [0.2]: The estimated coefficient is 0.97, the corresponding maximal p-value is 0.9871052382428621, and confidence interval is [0.61, 1.32] \t \n",
      "\\pi = [0.1]: The estimated coefficient is 0.8300000000000001, the corresponding maximal p-value is 0.9946360485831655, and confidence interval is [0.0, 1.99] \t \n",
      "\\pi = [2.22044605e-16]: The estimated coefficient is 1.99, the corresponding maximal p-value is 0.2543892366386382, and confidence interval is [0.0, 1.99] \t \n"
     ]
    }
   ],
   "source": [
    "# True parameters \n",
    "for p in np.arange(1, -0.1, -0.1):\n",
    "    p = np.c_[p]\n",
    "    N, beta, pi = 1000, 1, p\n",
    "\n",
    "    y, x, Z = dgp(N, beta, pi) # DGP  \n",
    "\n",
    "    b, pval, ci = max_p(y, x, Z) # estimate beta\n",
    "    print(f'\\pi = {p[0]}: The estimated coefficient is {b}, the corresponding maximal p-value is {pval}, and confidence interval is {ci} \\t ')"
   ]
  },
  {
   "cell_type": "markdown",
   "id": "34187f7e",
   "metadata": {},
   "source": [
    "## (5) \n",
    "The coverage of this test seems to be quite consistent even when $l$ increases from 1 to 10. "
   ]
  },
  {
   "cell_type": "code",
   "execution_count": 12,
   "id": "1c9244c3",
   "metadata": {},
   "outputs": [],
   "source": [
    "seq = [(1/2)**(n) for n in range(100)]"
   ]
  },
  {
   "cell_type": "code",
   "execution_count": 19,
   "id": "b86bc19a",
   "metadata": {},
   "outputs": [
    {
     "name": "stdout",
     "output_type": "stream",
     "text": [
      "# of instruments = 1: The estimated coefficient is 1.04, the corresponding maximal p-value is 0.9441763734706141, and confidence interval is [0.98, 1.11] \t \n",
      "# of instruments = 6: The estimated coefficient is 1.02, the corresponding maximal p-value is 0.819624375700069, and confidence interval is [0.9500000000000001, 1.09] \t \n",
      "# of instruments = 11: The estimated coefficient is 0.96, the corresponding maximal p-value is 0.597507112423858, and confidence interval is [0.88, 1.05] \t \n",
      "# of instruments = 16: The estimated coefficient is 0.98, the corresponding maximal p-value is 0.39206022840245675, and confidence interval is [0.9, 1.06] \t \n",
      "# of instruments = 21: The estimated coefficient is 1.02, the corresponding maximal p-value is 0.45206222160195864, and confidence interval is [0.93, 1.11] \t \n",
      "# of instruments = 26: The estimated coefficient is 1.0, the corresponding maximal p-value is 0.05219196003747301, and confidence interval is [0.99, 1.0] \t \n",
      "# of instruments = 31: The estimated coefficient is 0.99, the corresponding maximal p-value is 0.4100454548888379, and confidence interval is [0.9, 1.08] \t \n",
      "# of instruments = 36: The estimated coefficient is 0.99, the corresponding maximal p-value is 0.5705576069348537, and confidence interval is [0.88, 1.09] \t \n",
      "# of instruments = 41: The estimated coefficient is 1.0, the corresponding maximal p-value is 0.7380800544428936, and confidence interval is [0.87, 1.12] \t \n",
      "# of instruments = 46: The estimated coefficient is 1.02, the corresponding maximal p-value is 0.786111124232841, and confidence interval is [0.88, 1.16] \t \n",
      "# of instruments = 51: The estimated coefficient is 0.92, the corresponding maximal p-value is 0.9181100249823141, and confidence interval is [0.77, 1.07] \t \n",
      "# of instruments = 56: The estimated coefficient is 1.0, the corresponding maximal p-value is 0.4999169544668072, and confidence interval is [0.88, 1.12] \t \n",
      "# of instruments = 61: The estimated coefficient is 1.06, the corresponding maximal p-value is 0.40967303818392725, and confidence interval is [0.9400000000000001, 1.17] \t \n",
      "# of instruments = 66: The estimated coefficient is 0.99, the corresponding maximal p-value is 0.5593694822953929, and confidence interval is [0.86, 1.11] \t \n",
      "# of instruments = 71: The estimated coefficient is 0.98, the corresponding maximal p-value is 0.9037867410174757, and confidence interval is [0.8200000000000001, 1.1300000000000001] \t \n",
      "# of instruments = 76: The estimated coefficient is 0.9400000000000001, the corresponding maximal p-value is 0.523724653217801, and confidence interval is [0.81, 1.07] \t \n",
      "# of instruments = 81: The estimated coefficient is 1.02, the corresponding maximal p-value is 0.3339363802573162, and confidence interval is [0.9, 1.1300000000000001] \t \n",
      "# of instruments = 86: The estimated coefficient is 0.98, the corresponding maximal p-value is 0.5047831991870888, and confidence interval is [0.85, 1.11] \t \n",
      "# of instruments = 91: The estimated coefficient is 1.0, the corresponding maximal p-value is 0.46405541331467454, and confidence interval is [0.87, 1.1400000000000001] \t \n",
      "# of instruments = 96: The estimated coefficient is 1.03, the corresponding maximal p-value is 0.5760089564021884, and confidence interval is [0.88, 1.17] \t \n"
     ]
    }
   ],
   "source": [
    "for l in range(1, 101, 5): \n",
    "    p = np.c_[seq[0:l]]\n",
    "    N, beta, pi = 1000, 1, p\n",
    "    y, x, Z = dgp(N, beta, pi) # DGP  \n",
    "\n",
    "    b, pval, ci = max_p(y, x, Z) # estimate beta\n",
    "    print(f'# of instruments = {l}: The estimated coefficient is {b}, the corresponding maximal p-value is {pval}, and confidence interval is {ci} \\t ')"
   ]
  }
 ],
 "metadata": {
  "kernelspec": {
   "display_name": "Python 3 (ipykernel)",
   "language": "python",
   "name": "python3"
  },
  "language_info": {
   "codemirror_mode": {
    "name": "ipython",
    "version": 3
   },
   "file_extension": ".py",
   "mimetype": "text/x-python",
   "name": "python",
   "nbconvert_exporter": "python",
   "pygments_lexer": "ipython3",
   "version": "3.10.9"
  }
 },
 "nbformat": 4,
 "nbformat_minor": 5
}
