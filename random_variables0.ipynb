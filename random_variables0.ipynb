{
 "cells": [
  {
   "cell_type": "markdown",
   "metadata": {},
   "source": [
    "## Defining Random Variables in =python=                        :code_example:\n",
    "\n"
   ]
  },
  {
   "cell_type": "markdown",
   "metadata": {},
   "source": [
    "### Introduction\n",
    "\n"
   ]
  },
  {
   "cell_type": "markdown",
   "metadata": {},
   "source": [
    "The distinguishing feature of variables in a field such as the\n",
    "reals or the complex plane is their *value*; the distinguishing\n",
    "feature of random variables is their *distribution*.  The `python`\n",
    "package `scipy.stats` is well-engineered and offers many different\n",
    "distributions, and tools to construct others, while the package\n",
    "`pacal` is perhaps less well engineered, but defines arithmetic\n",
    "operations over random variables which allows for more elegant\n",
    "semantics.\n",
    "\n"
   ]
  },
  {
   "cell_type": "code",
   "execution_count": 1,
   "metadata": {},
   "outputs": [],
   "source": [
    "from scipy.stats import distributions as iid\n",
    "\n",
    "class RandomVariable:"
   ]
  },
  {
   "cell_type": "markdown",
   "metadata": {},
   "source": [
    "There are two main classes of random variables to consider: discrete\n",
    "   and continuous.  The distinction is worth drawing because different\n",
    "   classes are handled differently in many mathematical operations.  \n",
    "\n",
    "For example, here we instantiate a scalar continuous $\\rvx$:\n",
    "\n"
   ]
  },
  {
   "cell_type": "code",
   "execution_count": 1,
   "metadata": {},
   "outputs": [],
   "source": [
    "x = iid.norm()"
   ]
  },
  {
   "cell_type": "markdown",
   "metadata": {},
   "source": [
    "And here we instantiate a discrete random variable which is defined\n",
    "over an event space $\\{-1,0,1\\}$ with corresponding probabilities $(1/3,1/2,1/6)$:\n",
    "\n"
   ]
  },
  {
   "cell_type": "code",
   "execution_count": 1,
   "metadata": {},
   "outputs": [],
   "source": [
    "from scipy.stats._distn_infrastructure import rv_sample, rv_frozen\n",
    "from scipy.stats import distributions as iid\n",
    "\n",
    "class GenericDiscreteRandomVariable(rv_sample,iid.rv_discrete):\n",
    "    def __new__(cls, *args, **kwds):\n",
    "        return super(rv_sample, cls).__new__(cls)\n",
    "\n",
    "    __init__ = rv_sample.__init__\n",
    "\n",
    "\n",
    "class SpecialDiscreteRandomVariable(rv_frozen,iid.rv_discrete):\n",
    "    def __new__(cls, *args, **kwds):\n",
    "        f = args[0]\n",
    "        return super().__new__(cls,f)\n",
    "\n",
    "    def __init__(self,*args,**kwds):\n",
    "        dist = args[0].dist\n",
    "        self = dist\n",
    "        self.dist = dist\n",
    "        self.args = args\n",
    "        self.kwds = kwds\n",
    "\n",
    "class DiscreteRandomVariable(GenericDiscreteRandomVariable,SpecialDiscreteRandomVariable):\n",
    "    def __new__(cls, *args, **kwds):\n",
    "        print(args)\n",
    "        if 'values' in kwds or hasattr(args[0],'pk'):\n",
    "            return super(GenericDiscreteRandomVariable,cls).__new__(cls, *args, **kwds)\n",
    "        elif hasattr(args[0],'dist'):\n",
    "            return super(SpecialDiscreteRandomVariable,cls).__new__(cls, *args, **kwds)\n",
    "        \n",
    "    def __init__(self, *args, **kwds):\n",
    "        if 'values' in kwds or hasattr(args[0],'pk'):\n",
    "            super(GenericDiscreteRandomVariable,self).__init__(self, *args, **kwds)\n",
    "        elif hasattr(self,'dist'):\n",
    "            f = args[0]\n",
    "            super(SpecialDiscreteRandomVariable,self).__init__(self, *args, **kwds)"
   ]
  },
  {
   "cell_type": "code",
   "execution_count": 1,
   "metadata": {},
   "outputs": [],
   "source": [
    "from scipy.stats._distn_infrastructure import rv_sample, rv_frozen\n",
    "from scipy.stats import distributions as iid\n",
    "from numpy import floor\n",
    "\n",
    "class DiscreteRandomVariable(rv_sample,iid.rv_discrete):\n",
    "\n",
    "    def __new__(cls, *args, **kwds):\n",
    "        return super(rv_sample, cls).__new__(cls)\n",
    "\n",
    "    def __init__(self,s):\n",
    "        if hasattr(s,'pk'):\n",
    "            self.type = \"generic\"\n",
    "        elif hasattr(s,'dist'):\n",
    "            self.type = 'special'\n",
    "            \n",
    "        super(DiscreteRandomVariable, self).__init__(name=\"DiscreteRandomVariable\")\n",
    "\n",
    "    def _special_pmf(self,x):\n",
    "        try:\n",
    "            return self.pk[self.xk.index(x)]\n",
    "        except ValueError:\n",
    "            return 0\n",
    "\n",
    "    def _pmf(self,x):\n",
    "        return _special_pmf(self,x)"
   ]
  },
  {
   "cell_type": "code",
   "execution_count": 1,
   "metadata": {},
   "outputs": [],
   "source": [
    "Omega = (-1,0,1)\n",
    "Pr = (1/3.,1/2.,1/6.)\n",
    "\n",
    "s = DiscreteRandomVariable(values=(Omega,Pr))"
   ]
  },
  {
   "cell_type": "markdown",
   "metadata": {},
   "source": [
    "Now, here are some things we can do with these random variables.\n",
    " First, the continuous  $\\rvx$:\n",
    "\n"
   ]
  },
  {
   "cell_type": "code",
   "execution_count": 1,
   "metadata": {},
   "outputs": [
    {
     "name": "stdout",
     "output_type": "stream",
     "text": [
      ":results:\n",
      " E(x) = 0.0000\n",
      "\n",
      " Some (central) moments of x:\n",
      " [(1, 0.0), (2, 1.0), (3, 0.0), (4, 3.0)]\n",
      "\n",
      " 95% confidence interval: (-1.959964,1.959964)\n",
      "\n",
      " 0.5 0.3989422804014327\n",
      " :end:"
     ]
    }
   ],
   "source": [
    "print(\"E(x) = %6.4f\" % x.mean())\n",
    "print()\n",
    "print(\"Some (central) moments of x:\")\n",
    "print([(m,x.moment(m)) for m in [1,2,3,4]])\n",
    "print()\n",
    "print(\"95%% confidence interval: (%f,%f)\" % x.interval(0.95))\n",
    "print()\n",
    "print(x.cdf(0),x.pdf(0))"
   ]
  },
  {
   "cell_type": "markdown",
   "metadata": {},
   "source": [
    "Next, the discrete r.v., \\rv{s}:\n",
    "\n"
   ]
  },
  {
   "cell_type": "code",
   "execution_count": 1,
   "metadata": {},
   "outputs": [],
   "source": [
    "print(\"E(s) = %6.4f\" % s.mean())\n",
    "print()\n",
    "print(\"Some moments of s:\")\n",
    "print([(m,s.moment(m)) for m in [1,2,3,4]])\n",
    "print()\n",
    "print(\"95%% confidence interval: (%f,%f)\" % s.interval(0.95))\n",
    "print()\n",
    "# Note! Not pdf, but pmf for discrete rv.\n",
    "print(s.cdf(0),s.pmf(0))"
   ]
  },
  {
   "cell_type": "markdown",
   "metadata": {},
   "source": [
    "If we want *realizations* of these random variables:\n",
    "\n"
   ]
  },
  {
   "cell_type": "code",
   "execution_count": 1,
   "metadata": {},
   "outputs": [],
   "source": [
    "N=3\n",
    "print(x.rvs(N)) # N realizations; no longer random"
   ]
  },
  {
   "cell_type": "markdown",
   "metadata": {},
   "source": [
    "### Convolutions\n",
    "\n"
   ]
  },
  {
   "cell_type": "markdown",
   "metadata": {},
   "source": [
    "We&rsquo;d like to be able to combine different random variables, say\n",
    "by addition, yielding a new random variable.  For instance, we&rsquo;d like\n",
    "to be able to construct\n",
    "\n"
   ]
  },
  {
   "cell_type": "code",
   "execution_count": 1,
   "metadata": {},
   "outputs": [],
   "source": [
    "y = x + s"
   ]
  },
  {
   "cell_type": "markdown",
   "metadata": {},
   "source": [
    "But this fails.  Can you explain why?  What do you suppose the cdf of\n",
    "$\\rvy$ looks like?  Does it have a density, or does the addition of a\n",
    "random variable that *lacks* a density ($\\rv{s}$) to a random variable\n",
    "that has one ($\\rvx$) mess things up?\n",
    "\n"
   ]
  },
  {
   "cell_type": "markdown",
   "metadata": {},
   "source": [
    "#### Convolution of Continuous & Discrete Random variables\n",
    "\n"
   ]
  },
  {
   "cell_type": "code",
   "execution_count": 1,
   "metadata": {},
   "outputs": [],
   "source": [
    "from scipy.stats import distributions as iid\n",
    "\n",
    "# Code to convolve a random variable with a pmf and another having a cdf\n",
    "# Exploits =scipy.stats= base rv_continuous class.\n",
    "\n",
    "class ConvolvedContinuousAndDiscrete(iid.rv_continuous):\n",
    "\n",
    "    \"\"\"Convolve (add) a continuous rv x and a discrete rv s,\n",
    "       returning the resulting cdf.\"\"\"\n",
    "\n",
    "    def __init__(self,f,s):\n",
    "        self.continuous_rv = f\n",
    "        self.discrete_rv = s\n",
    "        super(ConvolvedContinuousAndDiscrete, self).__init__(name=\"ConvolvedContinuousAndDiscrete\")\n",
    "        \n",
    "    def _cdf(self,z):\n",
    "        F=0\n",
    "        s = self.discrete_rv\n",
    "        x = self.continuous_rv\n",
    "        \n",
    "        for k in range(len(s.xk)):\n",
    "            F = F + x.cdf(z-s.xk[k])*s.pk[k]\n",
    "        return F\n",
    "\n",
    "    def _pdf(self,z):\n",
    "        f=0\n",
    "        s = self.discrete_rv\n",
    "        x = self.continuous_rv\n",
    "        \n",
    "        for k in range(len(s.xk)):\n",
    "            f = f + x.pdf(z-s.xk[k])*s.pk[k]\n",
    "        return f\n",
    "\n",
    "\n",
    "# Create new convolved rv:\n",
    "y = ConvolvedContinuousAndDiscrete(x,s)"
   ]
  },
  {
   "cell_type": "code",
   "execution_count": 1,
   "metadata": {},
   "outputs": [],
   "source": [
    "import plotly.graph_objects as go\n",
    "import numpy as np\n",
    "\n",
    "X = np.linspace(-4,4,100).tolist()\n",
    "\n",
    "fig = go.Figure(data=go.Scatter(x=X, y=[y.pdf(z) for z in X]))\n",
    "fig.show()"
   ]
  },
  {
   "cell_type": "markdown",
   "metadata": {},
   "source": [
    "### Exercise\n",
    "\n"
   ]
  },
  {
   "cell_type": "markdown",
   "metadata": {},
   "source": [
    "Prove that $\\rvy$ is continuous (in the sense that it has a density),\n",
    "    as suggested by the figure *or* establish that the figure is\n",
    "    wrong or misleading.\n",
    "\n"
   ]
  }
 ],
 "metadata": {
  "kernelspec": {
   "display_name": "Python 3",
   "language": "python",
   "name": "python3"
  },
  "language_info": {
   "codemirror_mode": {
    "name": "ipython",
    "version": 3
   },
   "file_extension": ".py",
   "mimetype": "text/x-python",
   "name": "python",
   "nbconvert_exporter": "python",
   "pygments_lexer": "ipython3",
   "version": "3.8.5"
  },
  "org": null
 },
 "nbformat": 4,
 "nbformat_minor": 1
}
