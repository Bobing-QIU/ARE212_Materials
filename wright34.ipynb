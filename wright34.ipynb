{
 "cells": [
  {
   "cell_type": "markdown",
   "metadata": {},
   "source": [
    "## Quantities & Prices (Wright 1934)\n",
    "\n"
   ]
  },
  {
   "cell_type": "markdown",
   "metadata": {},
   "source": [
    "Consider a data generating process for $(q,p)$ based\n",
    "on Goldberger (1972), who in turn is describing the work of Sewall\n",
    "Wright (1934).  The demand-supply system is\n",
    "$$\n",
    "   q_D = \\alpha p + u\\qquad q_S = \\beta p + v\\qquad q_D = q_S,\n",
    "$$\n",
    "where $(u,v)$ are unobserved shocks to demand and supply,\n",
    "respectively. \n",
    "\n"
   ]
  },
  {
   "cell_type": "code",
   "execution_count": 1,
   "metadata": {},
   "outputs": [],
   "source": [
    "import numpy as np\n",
    "import pandas as pd\n",
    "from scipy.stats import distributions as iid\n",
    "\n",
    "# Structural parameters;\n",
    "(α,β) = (-1,2)     \n",
    "σ = {'u':1/2,'v':1/3}\n",
    "μ = {'u':2,'v':-1}\n",
    "\n",
    "# u,v assumed independent\n",
    "u = iid.norm(loc=μ['u'], scale=σ['u'])  # Demand shocks\n",
    "v = iid.norm(loc=μ['v'], scale=σ['v'])  # Supply shocks\n",
    "\n",
    "# Reduced form coefficients\n",
    "π = [[-β/(α - β), -1/(α - β)],\n",
    "     [ α/(α - β), 1/(α - β)]]\n",
    "\n",
    "# Generate N realizations of system\n",
    "# Outcomes Y have columns (q,p)\n",
    "N = 10\n",
    "\n",
    "# Arrange shocks into an Nx2 matrix\n",
    "U = np.c_[u.rvs(N), v.rvs(N)]\n",
    "\n",
    "# Matrix product gives [q,p]; label by putting into df\n",
    "df = pd.DataFrame(U@π,columns=['q','p'])\n",
    "Udf = pd.DataFrame(U,columns=['u','v']) # For future reference"
   ]
  },
  {
   "cell_type": "markdown",
   "metadata": {},
   "source": [
    "We can interrogate these data:\n",
    "\n"
   ]
  },
  {
   "cell_type": "code",
   "execution_count": 2,
   "metadata": {},
   "outputs": [
    {
     "data": {
      "text/html": [
       "<div>\n",
       "<style scoped>\n",
       "    .dataframe tbody tr th:only-of-type {\n",
       "        vertical-align: middle;\n",
       "    }\n",
       "\n",
       "    .dataframe tbody tr th {\n",
       "        vertical-align: top;\n",
       "    }\n",
       "\n",
       "    .dataframe thead th {\n",
       "        text-align: right;\n",
       "    }\n",
       "</style>\n",
       "<table border=\"1\" class=\"dataframe\">\n",
       "  <thead>\n",
       "    <tr style=\"text-align: right;\">\n",
       "      <th></th>\n",
       "      <th>q</th>\n",
       "      <th>p</th>\n",
       "    </tr>\n",
       "  </thead>\n",
       "  <tbody>\n",
       "    <tr>\n",
       "      <th>0</th>\n",
       "      <td>1.130137</td>\n",
       "      <td>1.222643</td>\n",
       "    </tr>\n",
       "    <tr>\n",
       "      <th>1</th>\n",
       "      <td>0.992784</td>\n",
       "      <td>1.178504</td>\n",
       "    </tr>\n",
       "    <tr>\n",
       "      <th>2</th>\n",
       "      <td>1.312292</td>\n",
       "      <td>0.992536</td>\n",
       "    </tr>\n",
       "    <tr>\n",
       "      <th>3</th>\n",
       "      <td>0.727897</td>\n",
       "      <td>1.134445</td>\n",
       "    </tr>\n",
       "    <tr>\n",
       "      <th>4</th>\n",
       "      <td>0.434656</td>\n",
       "      <td>0.771652</td>\n",
       "    </tr>\n",
       "    <tr>\n",
       "      <th>5</th>\n",
       "      <td>1.039249</td>\n",
       "      <td>1.026984</td>\n",
       "    </tr>\n",
       "    <tr>\n",
       "      <th>6</th>\n",
       "      <td>1.173349</td>\n",
       "      <td>0.904064</td>\n",
       "    </tr>\n",
       "    <tr>\n",
       "      <th>7</th>\n",
       "      <td>1.035390</td>\n",
       "      <td>1.129861</td>\n",
       "    </tr>\n",
       "    <tr>\n",
       "      <th>8</th>\n",
       "      <td>0.882796</td>\n",
       "      <td>0.949435</td>\n",
       "    </tr>\n",
       "    <tr>\n",
       "      <th>9</th>\n",
       "      <td>1.264269</td>\n",
       "      <td>1.361008</td>\n",
       "    </tr>\n",
       "  </tbody>\n",
       "</table>\n",
       "</div>"
      ],
      "text/plain": [
       "          q         p\n",
       "0  1.130137  1.222643\n",
       "1  0.992784  1.178504\n",
       "2  1.312292  0.992536\n",
       "3  0.727897  1.134445\n",
       "4  0.434656  0.771652\n",
       "5  1.039249  1.026984\n",
       "6  1.173349  0.904064\n",
       "7  1.035390  1.129861\n",
       "8  0.882796  0.949435\n",
       "9  1.264269  1.361008"
      ]
     },
     "execution_count": 2,
     "metadata": {},
     "output_type": "execute_result"
    }
   ],
   "source": [
    "df"
   ]
  },
  {
   "cell_type": "markdown",
   "metadata": {},
   "source": [
    "And compute the linear correlation&#x2026;\n",
    "\n"
   ]
  },
  {
   "cell_type": "code",
   "execution_count": 3,
   "metadata": {},
   "outputs": [
    {
     "data": {
      "text/html": [
       "<div>\n",
       "<style scoped>\n",
       "    .dataframe tbody tr th:only-of-type {\n",
       "        vertical-align: middle;\n",
       "    }\n",
       "\n",
       "    .dataframe tbody tr th {\n",
       "        vertical-align: top;\n",
       "    }\n",
       "\n",
       "    .dataframe thead th {\n",
       "        text-align: right;\n",
       "    }\n",
       "</style>\n",
       "<table border=\"1\" class=\"dataframe\">\n",
       "  <thead>\n",
       "    <tr style=\"text-align: right;\">\n",
       "      <th></th>\n",
       "      <th>q</th>\n",
       "      <th>p</th>\n",
       "    </tr>\n",
       "  </thead>\n",
       "  <tbody>\n",
       "    <tr>\n",
       "      <th>q</th>\n",
       "      <td>1.000000</td>\n",
       "      <td>0.511697</td>\n",
       "    </tr>\n",
       "    <tr>\n",
       "      <th>p</th>\n",
       "      <td>0.511697</td>\n",
       "      <td>1.000000</td>\n",
       "    </tr>\n",
       "  </tbody>\n",
       "</table>\n",
       "</div>"
      ],
      "text/plain": [
       "          q         p\n",
       "q  1.000000  0.511697\n",
       "p  0.511697  1.000000"
      ]
     },
     "execution_count": 3,
     "metadata": {},
     "output_type": "execute_result"
    }
   ],
   "source": [
    "df.corr()"
   ]
  },
  {
   "cell_type": "markdown",
   "metadata": {},
   "source": [
    "Or more generally the covariance matrix:\n",
    "\n"
   ]
  },
  {
   "cell_type": "code",
   "execution_count": 4,
   "metadata": {},
   "outputs": [
    {
     "data": {
      "text/html": [
       "<div>\n",
       "<style scoped>\n",
       "    .dataframe tbody tr th:only-of-type {\n",
       "        vertical-align: middle;\n",
       "    }\n",
       "\n",
       "    .dataframe tbody tr th {\n",
       "        vertical-align: top;\n",
       "    }\n",
       "\n",
       "    .dataframe thead th {\n",
       "        text-align: right;\n",
       "    }\n",
       "</style>\n",
       "<table border=\"1\" class=\"dataframe\">\n",
       "  <thead>\n",
       "    <tr style=\"text-align: right;\">\n",
       "      <th></th>\n",
       "      <th>q</th>\n",
       "      <th>p</th>\n",
       "    </tr>\n",
       "  </thead>\n",
       "  <tbody>\n",
       "    <tr>\n",
       "      <th>q</th>\n",
       "      <td>0.069398</td>\n",
       "      <td>0.023189</td>\n",
       "    </tr>\n",
       "    <tr>\n",
       "      <th>p</th>\n",
       "      <td>0.023189</td>\n",
       "      <td>0.029594</td>\n",
       "    </tr>\n",
       "  </tbody>\n",
       "</table>\n",
       "</div>"
      ],
      "text/plain": [
       "          q         p\n",
       "q  0.069398  0.023189\n",
       "p  0.023189  0.029594"
      ]
     },
     "execution_count": 4,
     "metadata": {},
     "output_type": "execute_result"
    }
   ],
   "source": [
    "C=df.cov()\n",
    "C"
   ]
  },
  {
   "cell_type": "markdown",
   "metadata": {},
   "source": [
    "From which we can calculate the linear regression coefficient\n",
    "of $p = a + bq + e$:\n",
    "\n"
   ]
  },
  {
   "cell_type": "code",
   "execution_count": 5,
   "metadata": {},
   "outputs": [
    {
     "data": {
      "text/plain": [
       "0.33414966398259816"
      ]
     },
     "execution_count": 5,
     "metadata": {},
     "output_type": "execute_result"
    }
   ],
   "source": [
    "C.loc['p','q']/C.loc['q','q']"
   ]
  },
  {
   "cell_type": "markdown",
   "metadata": {},
   "source": [
    "And learn about the probability density&#x2026;\n",
    "\n"
   ]
  },
  {
   "cell_type": "code",
   "execution_count": 6,
   "metadata": {},
   "outputs": [
    {
     "data": {
      "image/png": "[encoded data removed]",
      "text/plain": [
       "<Figure size 432x288 with 1 Axes>"
      ]
     },
     "metadata": {
      "needs_background": "light"
     },
     "output_type": "display_data"
    }
   ],
   "source": [
    "from scipy import stats\n",
    "import numpy as np\n",
    "\n",
    "# Estimate joint density of (q,p)\n",
    "pdf = stats.gaussian_kde(df.T).pdf \n",
    "\n",
    "ax = df.plot.scatter(x='q',y='p')\n",
    "\n",
    "v = ax.axis()\n",
    "Q = np.mgrid[v[0]:v[1]:100j].tolist()\n",
    "P = np.mgrid[v[2]:v[3]:100j].tolist()\n",
    "\n",
    "_ = ax.contour(Q,P,np.array([[pdf((q,p))[0] for p in P] for q in Q]))"
   ]
  },
  {
   "cell_type": "markdown",
   "metadata": {},
   "source": [
    "#### Counterfactual Demand & Supply Schedules\n",
    "\n"
   ]
  },
  {
   "cell_type": "markdown",
   "metadata": {},
   "source": [
    "What are the actual *counterfactual* demand and\n",
    "supply schedules?  This is the kind of thing that Frisch described as\n",
    "&ldquo;hypothetical experiments.&rdquo;  The schedules respond to shocks $u$ and $v$, respectively,\n",
    "yielding\n",
    "\n"
   ]
  },
  {
   "cell_type": "code",
   "execution_count": 7,
   "metadata": {},
   "outputs": [
    {
     "data": {
      "image/png": "[encoded data removed]",
      "text/plain": [
       "<Figure size 432x288 with 1 Axes>"
      ]
     },
     "metadata": {
      "needs_background": "light"
     },
     "output_type": "display_data"
    }
   ],
   "source": [
    "qmax = df['q'].max()\n",
    "qmin = df['q'].min()\n",
    "\n",
    "Q = pd.DataFrame({'min':np.maximum(0,df['q']-0.3*(qmax-qmin)),\n",
    "                  'max':np.minimum(qmax*1.2,df['q']+0.3*(qmax-qmin)),\n",
    "                  'miss':-1})\n",
    "\n",
    "# Inverse counterfactual demand & supply (for plotting)\n",
    "D = Q.add(-Udf['u'],axis=0)/α  \n",
    "S = Q.add(-Udf['v'],axis=0)/β\n",
    "\n",
    "counterfactual=pd.DataFrame({'S':S.stack(),\n",
    "                             'D':D.stack(),\n",
    "                             'Q':Q.stack()})\n",
    "\n",
    "counterfactual=counterfactual.replace(-1,np.nan)\n",
    "\n",
    "_ = counterfactual.plot(x='Q')"
   ]
  },
  {
   "cell_type": "markdown",
   "metadata": {},
   "source": [
    "#### Controlling Price\n",
    "\n"
   ]
  },
  {
   "cell_type": "markdown",
   "metadata": {},
   "source": [
    "Consider the question: what would expected demand be if we *fixed*\n",
    "    the price at $p_0$?  Expected supply?\n",
    "\n"
   ]
  },
  {
   "cell_type": "markdown",
   "metadata": {},
   "source": [
    "#### Average Causal Effect of a Change in Price\n",
    "\n"
   ]
  },
  {
   "cell_type": "markdown",
   "metadata": {},
   "source": [
    "What would expected demand be if we *observed* that the price was $p_0$?\n",
    "\n"
   ]
  },
  {
   "cell_type": "markdown",
   "metadata": {},
   "source": [
    "#### Price Change *Ceteris Paribus*\n",
    "\n"
   ]
  },
  {
   "cell_type": "markdown",
   "metadata": {},
   "source": [
    "Suppose we *observe* prices and quantities $(p_0,q_0)$.  How *would*\n",
    "    we expect the quantity demanded to change if prices were instead\n",
    "    fixed at $p_1$, *ceteris paribus*?\n",
    "\n"
   ]
  }
 ],
 "metadata": {
  "kernelspec": {
   "display_name": "Python 3 (ipykernel)",
   "language": "python",
   "name": "python3"
  },
  "language_info": {
   "codemirror_mode": {
    "name": "ipython",
    "version": 3
   },
   "file_extension": ".py",
   "mimetype": "text/x-python",
   "name": "python",
   "nbconvert_exporter": "python",
   "pygments_lexer": "ipython3",
   "version": "3.8.8"
  },
  "org": null
 },
 "nbformat": 4,
 "nbformat_minor": 1
}
