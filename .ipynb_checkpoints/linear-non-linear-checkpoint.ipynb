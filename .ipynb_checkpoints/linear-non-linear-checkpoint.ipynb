{
 "cells": [
  {
   "cell_type": "markdown",
   "metadata": {},
   "source": [
    "## Linear Non-Linear Functions\n",
    "\n"
   ]
  },
  {
   "cell_type": "markdown",
   "metadata": {},
   "source": [
    "### Truth & Factories\n",
    "\n"
   ]
  },
  {
   "cell_type": "code",
   "execution_count": null,
   "metadata": {},
   "outputs": [],
   "source": [
    "import numpy as np\n",
    "from numpy.linalg import norm\n",
    "from scipy.stats import distributions as iid\n",
    "import pandas as pd\n",
    "\n",
    "f0 = lambda x: x*np.sin(x) # True function\n",
    "# above is made using a lambda function; an unnamed function that lets us define\n",
    "# the new function f0 in terms of a yet anonymous variable x\n",
    "\n",
    "# Factory function for phi_k(x)\n",
    "phi_factory = lambda c,s=1: lambda x: np.exp(-(1/(2*s))*norm(x-c)**2)  # RBF\n",
    "# phi_factory = lambda c,s=1: lambda x: (x**c)/s  # Polynomial\n",
    "\n",
    "# here we nest the lambda functions! The first lambda passes anonlymous variables\n",
    "# c and s (s has a default value of 1) to an expression that \n",
    "# depends on a (yet) anonymous x"
   ]
  },
  {
   "cell_type": "markdown",
   "metadata": {},
   "source": [
    "Now a data-generating function for $(X,y)$:\n",
    "\n"
   ]
  },
  {
   "cell_type": "code",
   "execution_count": null,
   "metadata": {},
   "outputs": [],
   "source": [
    "def dgp(N,sigma_u):\n",
    "    X = iid.uniform(loc=0,scale=2*np.pi).rvs(N).tolist() \n",
    "    # make a list of N random vars from an iid uniform that starts at 0 and has a range of 2pi\n",
    "    X.sort() # sort (ascending)\n",
    "\n",
    "    u = iid.norm(scale=sigma_u) # initialize normal dist. with standard deviation sigma_u (inherited as an option in the function)\n",
    "\n",
    "    y = pd.Series([f0(x) + u.rvs(1)[0] for x in X])\n",
    "    # make a pandas series by feeding each value of X into the f0 function, and adding a draw from the u distribution\n",
    "    # (note that even though we only ask for 1 value from u each time, it returns an array, so we grab the first index with [0])\n",
    "\n",
    "    return X,y\n",
    "\n",
    "N = 20\n",
    "X,y = dgp(N,0.1)"
   ]
  },
  {
   "cell_type": "markdown",
   "metadata": {},
   "source": [
    "Consider scatterplot:\n",
    "\n"
   ]
  },
  {
   "cell_type": "code",
   "execution_count": null,
   "metadata": {},
   "outputs": [],
   "source": [
    "import matplotlib.pyplot as plt\n",
    "\n",
    "fig, ax = plt.subplots()\n",
    "\n",
    "ax.scatter(X,y)\n",
    "# scatter x = X, y = y\n",
    "\n",
    "Domain = np.linspace(0,2*np.pi,N).tolist()\n",
    "# create another vector of x values, N evenly spaced values between 0, 2pi\n",
    "\n",
    "ax.plot(Domain,[f0(x) for x in Domain])\n",
    "# plot a line graph of f0(x) over the values of the Domain defined above"
   ]
  },
  {
   "cell_type": "markdown",
   "metadata": {},
   "source": [
    "Now regression:\n",
    "\n"
   ]
  },
  {
   "cell_type": "code",
   "execution_count": null,
   "metadata": {},
   "outputs": [],
   "source": [
    "## Or\n",
    "K=3\n",
    "phis = {k:phi_factory(k) for k in range(K)}\n",
    "# create a dictionary where each key is a value in 0, K-1 (range doesn't include the right endpoint),\n",
    "# and each value is the value of the phi_factory function of that value, fed to the parameter c (the first input)\n",
    "\n",
    "phis[0] = lambda x: 1 # Constant function for the first element in the dictionary\n",
    "\n",
    "TX = {}\n",
    "for k in range(K):\n",
    "    TX[k] = [phis[k](x) for x in X]\n",
    "    # fill a dictionary with the same keys as above, but now the values are arrays with each value of X plugged into \n",
    "    # the second argument of the phi_factory function\n",
    "    # so it may look like: k=1: [phi_factory(c=1)(x=X[0]), phi_factory(c=1)(x=X[1]), ...]\n",
    "    #                      k=2: [phi_factory(c=2)(x=X[0]), phi_factory(c=2)(x=X[1]), ...]\n",
    "    # remember that we fixed the k=0 value to a constant function, so k=0: [1, 1, ...]\n",
    "\n",
    "TX = pd.DataFrame(TX) # make these into the columns of a dataframe\n",
    "\n",
    "try: # If y isn't a DataFrame make it one\n",
    "    y = pd.DataFrame({'y':y})\n",
    "except ValueError: # If we get an error (most likely due to the fact that y is already a dataframe)...\n",
    "    pass # move on! \n",
    "\n",
    "alpha = pd.DataFrame(np.linalg.solve(TX.T@TX, TX.T@y),index=TX.columns)\n",
    "# make a dataframe out of the solution; set the index values to be the column names\n",
    "\n",
    "# Check fit:\n",
    "e = y['y'] - TX@alpha[0]\n",
    "e.var()\n",
    "####### FIXME: Is this correct? Is the value that this produces desireable?"
   ]
  },
  {
   "cell_type": "markdown",
   "metadata": {},
   "source": [
    "Note that expected *within* sample error variance is effectively zero!\n",
    "\n",
    "Now construct $\\hat{f}$ and plot predictions:\n",
    "\n"
   ]
  },
  {
   "cell_type": "code",
   "execution_count": null,
   "metadata": {},
   "outputs": [],
   "source": [
    "def fhat(x,alpha):\n",
    "\n",
    "    try: # Make alpha 1-d for calculations here\n",
    "        alpha = alpha.squeeze() \n",
    "        # squeeze() \"breaks down\" array-like objects when they have only one dimention.\n",
    "        # in this case, alpha is a one-column dataframe, so we're going to squeeze it into a pandas series\n",
    "    except AttributeError: # Maybe a list?\n",
    "        pass\n",
    "    \n",
    "    yhat = 0\n",
    "    for k,phik in phis.items():\n",
    "        # loop over entries in phis dictionary. The syntax here is calling the keys k, and the vlaues phik\n",
    "        yhat += alpha[k]*phik(x) # for each alpha, add alpha_i*x for the x fed in from the arguments \n",
    "        # at the end we'll have yhat = alpha_0*phik(x) + alpha_1*phik(x) + alpha_2*phik(x)\n",
    "\n",
    "    return yhat\n",
    "\n",
    "Domain = np.linspace(0,2*np.pi,100).tolist()\n",
    "\n",
    "_ = ax.plot(Domain,[fhat(x,alpha) for x in Domain]) # plug in each value of X to the fhat function (predict)\n",
    "fig"
   ]
  },
  {
   "cell_type": "markdown",
   "metadata": {},
   "source": [
    "Compute the MSE:\n",
    "\n"
   ]
  },
  {
   "cell_type": "code",
   "execution_count": null,
   "metadata": {},
   "outputs": [],
   "source": [
    "dx = Domain[1]-Domain[0] \n",
    "# change in x. Remember that each step has the same distance because of the way we made Domain, \n",
    "# so the diff. between the first and second is the same as the distance between any consecutive values\n",
    "\n",
    "MSE = np.sum([((f0(x) - fhat(x,alpha))**2)*dx for x in Domain]) # calculate (true-predicted)^2 * dx for each x; sum\n",
    "\n",
    "MSE"
   ]
  },
  {
   "cell_type": "markdown",
   "metadata": {},
   "source": [
    "### Questions\n",
    "\n"
   ]
  },
  {
   "cell_type": "markdown",
   "metadata": {},
   "source": [
    "1.  What&rsquo;s the expected squared out of sample prediction error of this\n",
    "    estimator (not just an estimate), using the same size sample as above?\n",
    "    1.  In this case what&rsquo;s the expected squared bias?  The variance?\n",
    "\n"
   ]
  }
 ],
 "metadata": {
  "kernelspec": {
   "display_name": "Python 3",
   "language": "python",
   "name": "python3"
  },
  "language_info": {
   "codemirror_mode": {
    "name": "ipython",
    "version": 3
   },
   "file_extension": ".py",
   "mimetype": "text/x-python",
   "name": "python",
   "nbconvert_exporter": "python",
   "pygments_lexer": "ipython3",
   "version": "3.7.6"
  },
  "org": null
 },
 "nbformat": 4,
 "nbformat_minor": 1
}
