{
 "cells": [
  {
   "cell_type": "markdown",
   "metadata": {},
   "source": [
    "#### Classical regression in =python=\n",
    "\n"
   ]
  },
  {
   "cell_type": "markdown",
   "metadata": {},
   "source": [
    "The fact that $X$ and $u$ are &ldquo;independent&rdquo; variables means that\n",
    "if we want to compute a &ldquo;classical&rdquo; regression we&rsquo;d do it\n",
    "something like this:\n",
    "\n"
   ]
  },
  {
   "cell_type": "markdown",
   "metadata": {},
   "source": [
    "##### Define independent random variables\n",
    "\n"
   ]
  },
  {
   "cell_type": "code",
   "execution_count": 1,
   "metadata": {},
   "outputs": [],
   "source": [
    "%matplotlib inline\n",
    "import numpy as np\n",
    "from scipy.stats import multivariate_normal\n",
    "\n",
    "k = 2 # Number of observables\n",
    "\n",
    "mu = [0]*k # create a 1xk vector of 0's\n",
    "Sigma=[[1,0.5],\n",
    "       [0.5,2]]\n",
    "\n",
    "X = multivariate_normal(mu,Sigma)\n",
    "\n",
    "u = multivariate_normal(cov=0.2) # use default mean (0), set covariance "
   ]
  },
  {
   "cell_type": "markdown",
   "metadata": {},
   "source": [
    "##### Construct Sample\n",
    "\n"
   ]
  },
  {
   "cell_type": "markdown",
   "metadata": {},
   "source": [
    "To construct a sample of observables $(y,X)$ we just use the regression equation,\n",
    "     plus an assumption about the value of $\\beta$:\n",
    "\n"
   ]
  },
  {
   "cell_type": "code",
   "execution_count": 3,
   "metadata": {},
   "outputs": [],
   "source": [
    "beta = [1/2,1] \n",
    "\n",
    "N=1000 # Sample size\n",
    "\n",
    "# Now: Transform r.v. X into a sample\n",
    "X = X.rvs(N) # generate N random numbers from the X distribution above\n",
    "\n",
    "y = X@beta + u.rvs(N) # Note use of @ operator for matrix multiplication"
   ]
  },
  {
   "cell_type": "markdown",
   "metadata": {},
   "source": [
    "##### Turn to estimation\n",
    "\n"
   ]
  },
  {
   "cell_type": "markdown",
   "metadata": {},
   "source": [
    "So, we now have data on *realizations* $(y,X)$ which take the\n",
    "     Now forget that we know $\\beta$ and let&rsquo;s estimate it, using\n",
    "     OLS.  As a numerical matter it&rsquo;s better to avoid explicitly\n",
    "     inverting the $(X^T X)$ matrix; instead we can solve the &ldquo;normal&rdquo;\n",
    "     equations.\n",
    "\n"
   ]
  },
  {
   "cell_type": "markdown",
   "metadata": {},
   "source": [
    "##### Numerical solution\n",
    "\n"
   ]
  },
  {
   "cell_type": "code",
   "execution_count": 5,
   "metadata": {},
   "outputs": [
    {
     "name": "stdout",
     "output_type": "stream",
     "text": [
      "Estimated betas: [0.48832258 1.01389773]\n",
      "\n",
      "[[ 0.01518494 -0.00194864]\n",
      " [-0.00194864  0.01053552]]\n"
     ]
    }
   ],
   "source": [
    "from scipy.linalg import inv, sqrtm\n",
    "\n",
    "b = np.linalg.solve(X.T@X,X.T@y)\n",
    "\n",
    "e = y - X@b # get risiduals\n",
    "\n",
    "vb = e.var()*inv(X.T@X)\n",
    "\n",
    "print(\"Estimated betas: %s\" % b,end='\\n\\n')\n",
    "print(sqrtm(vb))"
   ]
  }
 ],
 "metadata": {
  "kernelspec": {
   "display_name": "Python 3",
   "language": "python",
   "name": "python3"
  },
  "language_info": {
   "codemirror_mode": {
    "name": "ipython",
    "version": 3
   },
   "file_extension": ".py",
   "mimetype": "text/x-python",
   "name": "python",
   "nbconvert_exporter": "python",
   "pygments_lexer": "ipython3",
   "version": "3.7.4"
  },
  "org": null
 },
 "nbformat": 4,
 "nbformat_minor": 1
}
