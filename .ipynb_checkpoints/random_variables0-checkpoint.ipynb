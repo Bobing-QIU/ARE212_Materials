{
 "cells": [
  {
   "cell_type": "markdown",
   "metadata": {},
   "source": [
    "### Defining Random Variables in =python=                       :code_example:\n",
    "\n"
   ]
  },
  {
   "cell_type": "code",
   "execution_count": null,
   "metadata": {
    "scrolled": true
   },
   "outputs": [],
   "source": [
    "# Define \"tag\" the display of which hides the cell\n",
    "from IPython.display import HTML\n",
    "from IPython.display import display\n",
    "\n",
    "# Taken from https://stackoverflow.com/questions/31517194/how-to-hide-one-specific-cell-input-or-output-in-ipython-notebook\n",
    "def tag(marker):\n",
    "    s = HTML('''<script>\n",
    "                  code_show=true; \n",
    "                  function code_toggle() {\n",
    "                     if (code_show){\n",
    "                        $('div.cell.code_cell.rendered.selected div.input').hide();\n",
    "                     } else {\n",
    "                        $('div.cell.code_cell.rendered.selected div.input').show();\n",
    "                     }\n",
    "                     code_show = !code_show\n",
    "                   } \n",
    "                  $( document ).ready(code_toggle);\n",
    "                 </script>\n",
    "<a href=\"javascript:code_toggle()\">%s</a>.''' % marker)\n",
    "    return s\n",
    "display(tag(''))"
   ]
  },
  {
   "cell_type": "markdown",
   "metadata": {},
   "source": [
    "The distinguishing feature of variables in a field such as the\n",
    "   reals or the complex plane is their *value*; the distinguishing\n",
    "   feature of random variables is their *distribution*.  The `python`\n",
    "   package `scipy.stats` is well-engineered and offers many different\n",
    "   distributions, and tools to construct others, while the package\n",
    "   `pacal` is perhaps less well engineered, but defines arithmetic\n",
    "   operations over random variables which allows for more elegant\n",
    "   semantics.\n",
    "\n",
    "There are two main classes of random variables to consider: discrete\n",
    "and continuous.  The distinction is worth drawing because different\n",
    "classes are handled differently in many mathematical operations.  \n",
    "\n",
    "For example, here we instantiate a scalar $\\mathsf{x}$:\n",
    "\n"
   ]
  },
  {
   "cell_type": "code",
   "execution_count": null,
   "metadata": {},
   "outputs": [],
   "source": [
    "# import \"distributions\" from the stats module of scipy\n",
    "# this is literally a file inside a subfolder of the scipy package\n",
    "# name it \"iid\" for our use here\n",
    "# See list of available distributions here: https://docs.scipy.org/doc/scipy/reference/stats.html\n",
    "from scipy.stats import distributions as iid\n",
    "\n",
    "x = iid.norm() # Fix normal distribution"
   ]
  },
  {
   "cell_type": "markdown",
   "metadata": {},
   "source": [
    "And here we instantiate a discrete random variable which is defined\n",
    " over an event space $\\{-1,0,1\\}$ with corresponding probabilities $(1/3,1/2,1/6)$:\n",
    "\n"
   ]
  },
  {
   "cell_type": "code",
   "execution_count": null,
   "metadata": {},
   "outputs": [],
   "source": [
    "# values of the discrete distribution (in order!)\n",
    "Omega = (-1,0,1)\n",
    "\n",
    "# probabilities of the above values (in order!)\n",
    "Pr = (1/3.,1/2.,1/6.)\n",
    "\n",
    "s = iid.rv_discrete(values=(Omega,Pr))"
   ]
  },
  {
   "cell_type": "markdown",
   "metadata": {},
   "source": [
    "Now, here are some things we can do with these random variables.\n",
    " First, the continuous  $\\mathsf{x}$:\n",
    "\n"
   ]
  },
  {
   "cell_type": "code",
   "execution_count": null,
   "metadata": {},
   "outputs": [],
   "source": [
    "print(\"E(x) = %6.4f\" % x.mean()) # print the mean of our continuous normal dist, x\n",
    "\n",
    "print(\"\\nSome (central) moments of x:\") # \\n pushes us to a new line for printing!\n",
    "\n",
    "# here we print the pair (moment #, value) for the moments 1, 2, 3, and 4 of the distribution\n",
    "# essentially we loop over the values in [1,2,3,4], and print each one together with the value of that moment\n",
    "print([(m,x.moment(m)) for m in [1,2,3,4]])\n",
    "\n",
    "print(\"\\n95%% confidence interval: (%f,%f)\\n\" % x.interval(0.95)) \n",
    "# note that % is used to insert values into a string for printing, so to print the literal \"%\", \n",
    "# we put it 2x to tell python to not try to interpret it as a value\n",
    "\n",
    "print(x.cdf(0),x.pdf(0)) # print cdf, pdf values"
   ]
  },
  {
   "cell_type": "markdown",
   "metadata": {},
   "source": [
    "Next, the discrete r.v., \\rv{s}:\n",
    "\n"
   ]
  },
  {
   "cell_type": "code",
   "execution_count": null,
   "metadata": {},
   "outputs": [],
   "source": [
    "print(\"E(s) = %6.4f\" % s.mean())\n",
    "\n",
    "print(\"\\nSome moments of x:\")\n",
    "print([(m,s.moment(m)) for m in [1,2,3,4]])\n",
    "print(\"\\n95%% confidence interval: (%f,%f)\\n\" % s.interval(0.95))\n",
    "\n",
    "# Note! Not pdf, but pmf for discrete rv.\n",
    "print(s.cdf(0),s.pmf(0))"
   ]
  },
  {
   "cell_type": "markdown",
   "metadata": {},
   "source": [
    "If we want *realizations* of these random variables:\n",
    "\n"
   ]
  },
  {
   "cell_type": "code",
   "execution_count": null,
   "metadata": {},
   "outputs": [],
   "source": [
    "N=3\n",
    "print(x.rvs(N)) # N realizations; returned as a np array. no longer random"
   ]
  },
  {
   "cell_type": "markdown",
   "metadata": {},
   "source": [
    "We&rsquo;d like to be able to combine different random variables, say\n",
    "by addition, yielding a new random variable.  For instance, we&rsquo;d like\n",
    "to be able to construct\n",
    "\n"
   ]
  },
  {
   "cell_type": "code",
   "execution_count": null,
   "metadata": {},
   "outputs": [],
   "source": [
    "y = x + s"
   ]
  },
  {
   "cell_type": "markdown",
   "metadata": {},
   "source": [
    "But this fails.  Can you explain why?  What do you suppose the cdf of\n",
    "$\\rvy$ looks like?  Does it have a density, or does the addition of a\n",
    "random variable that *lacks* a density ($\\rv{s}$) to a random variable\n",
    "that has one ($\\rvx$) mess things up?\n",
    "\n"
   ]
  },
  {
   "cell_type": "code",
   "execution_count": null,
   "metadata": {},
   "outputs": [],
   "source": [
    "# display(tag(\"+\")\n",
    "# Code to convolve a random variable with a pmf and another having a cdf\n",
    "# Exploits =scipy.stats= base rv_continuous class.\n",
    "\n",
    "class ConvolvedContinuousAndDiscrete(iid.rv_continuous):\n",
    "\n",
    "    \"\"\"Convolve (add) a continuous rv x and a discrete rv s,\n",
    "       returning the resulting cdf.\"\"\"\n",
    "\n",
    "    # first create a \"constructor\" that instantiates the class w/ inputs f and s and inherits from another class\n",
    "    # note that being inside __init__ makes these inputs instance-specific!\n",
    "    def __init__(self,f,s):\n",
    "        self.continuous_rv = f\n",
    "        self.discrete_rv = s\n",
    "        super(ConvolvedContinuousAndDiscrete, self).__init__(name=\"ConvolvedContinuousAndDiscrete\")\n",
    "        \n",
    "    # define other callable characteristics of the class     \n",
    "    def _cdf(self,z):\n",
    "        F=0\n",
    "        s = self.discrete_rv\n",
    "        x = self.continuous_rv\n",
    "        \n",
    "        for k in range(len(s.xk)):\n",
    "            F = F + x.cdf(z-s.xk[k])*s.pk[k]\n",
    "        return F\n",
    "\n",
    "    def _pdf(self,z):\n",
    "        f=0\n",
    "        s = self.discrete_rv\n",
    "        x = self.continuous_rv\n",
    "        \n",
    "        for k in range(len(s.xk)):\n",
    "            f = f + x.pdf(z-s.xk[k])*s.pk[k]\n",
    "        return f\n",
    "\n",
    "       \n",
    "# Create new convolved rv:\n",
    "y = ConvolvedContinuousAndDiscrete(x,s)"
   ]
  },
  {
   "cell_type": "code",
   "execution_count": null,
   "metadata": {},
   "outputs": [],
   "source": [
    "# See how we can now call the methods defined above! Cool!\n",
    "y.cdf(0)"
   ]
  },
  {
   "cell_type": "code",
   "execution_count": null,
   "metadata": {},
   "outputs": [],
   "source": [
    "import plotly.graph_objects as go\n",
    "import numpy as np\n",
    "\n",
    "# initiate a list that starts at -4, ends at 4, and has 100 observations \n",
    "# (output of np.linspace() is a np array; cast to list type)\n",
    "X = np.linspace(-4,4,100).tolist()\n",
    "\n",
    "# plot of the pdf of our new distribution plotted at the points in the vector X\n",
    "# here we create the vector of points for the pdf of y calculated at each point in X right in the plot structure,\n",
    "# no need to define it beforehand!\n",
    "fig = go.Figure(data=go.Scatter(x=X, y=[y.pdf(z) for z in X])) \n",
    "fig.show()"
   ]
  },
  {
   "cell_type": "markdown",
   "metadata": {},
   "source": [
    "#### Exercise\n",
    "\n"
   ]
  },
  {
   "cell_type": "markdown",
   "metadata": {},
   "source": [
    "Prove that $\\rvy$ is continuous (in the sense that it has a density),\n",
    "     as suggested by the figure *or* establish that the figure is\n",
    "     wrong or misleading.\n",
    "\n"
   ]
  },
  {
   "cell_type": "markdown",
   "metadata": {},
   "source": [
    "#### Proof\n",
    "\n"
   ]
  },
  {
   "cell_type": "markdown",
   "metadata": {},
   "source": [
    "Let $F_x$ denote the cdf of \\rvx.  We want to establish that the cdf\n",
    "of $\\rvy$, say $F_y(y)=\\Pr(\\rvy\\leq y)$ is a continuously differentiable\n",
    "function of $y$.  We use the fact that the distribution of $\\rvy$ is a\n",
    "convolution of $\\rvx$ and $\\rvs$, so that\n",
    "\n",
    "\\begin{equation} \n",
    "\\begin{split}\n",
    "    \\Pr(\\rvy\\leq y) &= \\Pr(\\rv{s} + \\rv{x}\\leq y ) \\\\\n",
    "                    &= \\sum_{s\\in\\Omega}\\Pr(\\rvx\\leq y-s|s)\\pi_s\\\\\n",
    "                    &= \\sum_{s\\in\\Omega}F_x(y-s)\\pi_s,\n",
    "\\end{split}\n",
    "\\end{equation}\n",
    "\n",
    "which is continuously differentiable in $y$, as required.\n",
    "\n"
   ]
  }
 ],
 "metadata": {
  "kernelspec": {
   "display_name": "Python 3",
   "language": "python",
   "name": "python3"
  },
  "language_info": {
   "codemirror_mode": {
    "name": "ipython",
    "version": 3
   },
   "file_extension": ".py",
   "mimetype": "text/x-python",
   "name": "python",
   "nbconvert_exporter": "python",
   "pygments_lexer": "ipython3",
   "version": "3.7.4"
  },
  "org": null
 },
 "nbformat": 4,
 "nbformat_minor": 1
}
